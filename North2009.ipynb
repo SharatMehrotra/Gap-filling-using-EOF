{
 "cells": [
  {
   "cell_type": "markdown",
   "id": "british-emperor",
   "metadata": {},
   "source": [
    "<h2>\n",
    "    Gap-filling on GPS data sets using iterative EOF and time series analysis\n",
    "</h2>\n",
    "    <h4>This for the North_NZ2009.csv data set.<br></h4>\n",
    "    Libraries used-<br>\n",
    "    numpy<br>\n",
    "    pandas<br>\n",
    "    os <br>\n",
    "    matplotlib <br>\n",
    "    eofs.standard <br>\n",
    "    random <br><br>\n",
    "    An iterative algorithm, EOF analysis, has been suggested the retrieve the missing values in CGPS data. Using the data, we first construct a spatial-temporal matrix. The missing values are then initialized appropriately. The method then decomposes the constructed matrix into different EOF modes. The optimum number of EOF modes are selected such that we are able to cover maximum variability in the data. The matrix is reconstructed using the number of modes calculated. An iterative update of missing values is performed, which gives the best estimate of missing data points. To verify the correctness of this method, 1-2% of the given data has been used as the cross-validation-set, to see if the missing values can be estimated correctly or not."
   ]
  },
  {
   "cell_type": "code",
   "execution_count": 44,
   "id": "dirty-hotel",
   "metadata": {},
   "outputs": [],
   "source": [
    "import numpy as np\n",
    "import pandas as pd\n",
    "import os\n",
    "import matplotlib.pyplot as plt\n",
    "from eofs.standard import Eof \n",
    "import random\n",
    "import time"
   ]
  },
  {
   "cell_type": "code",
   "execution_count": 45,
   "id": "advance-admission",
   "metadata": {},
   "outputs": [
    {
     "name": "stdout",
     "output_type": "stream",
     "text": [
      "[[ -58.01  -57.38  -55.36 ...  409.92  410.25  409.03]\n",
      " [   0.      0.      0.   ...  219.17  219.49  218.93]\n",
      " [-167.57 -170.74 -172.59 ...  299.47  299.64  298.7 ]\n",
      " ...\n",
      " [   0.      0.      0.   ...  826.87  826.71  825.18]\n",
      " [   0.      0.      0.   ...   70.37   74.85   75.15]\n",
      " [   0.      0.      0.   ...   78.88   78.29   78.06]]\n",
      "99\n",
      "4291\n"
     ]
    }
   ],
   "source": [
    "df=pd.read_csv('North_NZ2009.csv', sep=',',header=None)       # reading the .csv files and converting to dataframe\n",
    "east_matrix = np.array(df.to_numpy())                        #convert to numpy array\n",
    "east_matrix = east_matrix.T                        # take transpose\n",
    "m = len(east_matrix)                        #rows\n",
    "n = len(east_matrix[0])                     #columns\n",
    "east_matrix = np.nan_to_num(east_matrix)    #fill NaN with 0\n",
    "org_matrix=east_matrix                        #store the current matrix as org_matrix\n",
    "print(east_matrix)\n",
    "print(m)\n",
    "print(n)"
   ]
  },
  {
   "cell_type": "code",
   "execution_count": 46,
   "id": "incredible-white",
   "metadata": {},
   "outputs": [],
   "source": [
    "l=[]\n",
    "for j in range(n):\n",
    "    sum=0.0\n",
    "    count=0\n",
    "    for i in range(m):\n",
    "        sum+=east_matrix[i][j]\n",
    "        count+=1\n",
    "    sum/=count\n",
    "    l.append(sum)\n",
    "    for i in range(m):\n",
    "        if(east_matrix[i][j]!=0):\n",
    "            east_matrix[i][j]-=sum"
   ]
  },
  {
   "cell_type": "code",
   "execution_count": 47,
   "id": "personalized-destruction",
   "metadata": {},
   "outputs": [
    {
     "name": "stdout",
     "output_type": "stream",
     "text": [
      "[[  45.61646567   45.93015092   46.12941789 ...  118.40997095\n",
      "   118.16732022  117.94257621]\n",
      " [  48.4459494    49.0466063    49.43572341 ...  -72.07875603\n",
      "   -72.68826464  -72.34801742]\n",
      " [ -48.20984121  -48.65697707  -48.50861335 ...    8.48844273\n",
      "     8.5631819     8.65829232]\n",
      " ...\n",
      " [  25.93499663   26.10897966   26.00356916 ...  535.14790567\n",
      "   534.72815913  533.99136507]\n",
      " [  25.20799762   23.8869069    24.72688556 ... -225.27339875\n",
      "  -221.21571836 -219.75139985]\n",
      " [   8.05297513    7.57536746    8.44383892 ... -211.64671989\n",
      "  -210.47241322 -211.51501065]]\n"
     ]
    }
   ],
   "source": [
    "\"\"\"\n",
    "Example of reconstructing the matrix using 20 components\n",
    "\"\"\"\n",
    "solver = Eof(east_matrix) \n",
    "components=20\n",
    "pcs=solver.pcs(pcscaling = 0 , npcs=components)\n",
    "eofs=solver.eofs(eofscaling = 0, neofs=components)\n",
    "new_matrix = np.matmul(pcs,eofs)  \n",
    "print(new_matrix)"
   ]
  },
  {
   "cell_type": "code",
   "execution_count": 48,
   "id": "dedicated-transition",
   "metadata": {},
   "outputs": [],
   "source": [
    "eigenvalues =  solver.varianceFraction()\n",
    "eigenvalue1 = solver.varianceFraction(neigs=99)"
   ]
  },
  {
   "cell_type": "code",
   "execution_count": 49,
   "id": "blond-walker",
   "metadata": {},
   "outputs": [
    {
     "name": "stdout",
     "output_type": "stream",
     "text": [
      "(99,)\n"
     ]
    }
   ],
   "source": [
    "print(eigenvalue1.shape) #shape of numpy array for 99 components"
   ]
  },
  {
   "cell_type": "code",
   "execution_count": 50,
   "id": "informational-interface",
   "metadata": {},
   "outputs": [
    {
     "name": "stdout",
     "output_type": "stream",
     "text": [
      "1.0\n"
     ]
    }
   ],
   "source": [
    "sum=0.0\n",
    "for i in range(len(eigenvalue1)):\n",
    "    sum+=eigenvalue1[i]\n",
    "print(sum)   #total variance- will be 1.00"
   ]
  },
  {
   "cell_type": "code",
   "execution_count": 51,
   "id": "infectious-petersburg",
   "metadata": {},
   "outputs": [
    {
     "name": "stdout",
     "output_type": "stream",
     "text": [
      "[8.2538e+01 1.4551e+01 1.2060e+00 5.2000e-01 3.7300e-01 1.6200e-01\n",
      " 1.0400e-01 8.3000e-02 6.6000e-02 5.8000e-02 4.4000e-02 3.8000e-02\n",
      " 3.0000e-02 2.8000e-02 2.2000e-02 1.9000e-02 1.8000e-02 1.4000e-02\n",
      " 1.3000e-02 1.1000e-02 1.0000e-02 9.0000e-03 9.0000e-03 8.0000e-03\n",
      " 8.0000e-03 6.0000e-03 5.0000e-03 5.0000e-03 4.0000e-03 4.0000e-03\n",
      " 3.0000e-03 3.0000e-03 3.0000e-03 2.0000e-03 2.0000e-03 2.0000e-03\n",
      " 2.0000e-03 1.0000e-03 1.0000e-03 1.0000e-03 1.0000e-03 1.0000e-03\n",
      " 1.0000e-03 1.0000e-03 1.0000e-03 1.0000e-03 1.0000e-03 1.0000e-03\n",
      " 1.0000e-03 1.0000e-03 0.0000e+00 0.0000e+00 0.0000e+00 0.0000e+00\n",
      " 0.0000e+00 0.0000e+00 0.0000e+00 0.0000e+00 0.0000e+00 0.0000e+00\n",
      " 0.0000e+00 0.0000e+00 0.0000e+00 0.0000e+00 0.0000e+00 0.0000e+00\n",
      " 0.0000e+00 0.0000e+00 0.0000e+00 0.0000e+00 0.0000e+00 0.0000e+00\n",
      " 0.0000e+00 0.0000e+00 0.0000e+00 0.0000e+00 0.0000e+00 0.0000e+00\n",
      " 0.0000e+00 0.0000e+00 0.0000e+00 0.0000e+00 0.0000e+00 0.0000e+00\n",
      " 0.0000e+00 0.0000e+00 0.0000e+00 0.0000e+00 0.0000e+00 0.0000e+00\n",
      " 0.0000e+00 0.0000e+00 0.0000e+00 0.0000e+00 0.0000e+00 0.0000e+00\n",
      " 0.0000e+00 0.0000e+00 0.0000e+00]\n"
     ]
    }
   ],
   "source": [
    "\"\"\"\n",
    "finding the % of variance explained by each component \n",
    "\"\"\"\n",
    "for i in range(len(eigenvalue1)):  \n",
    "    eigenvalue1[i]*=100\n",
    "    eigenvalue1[i]/=sum\n",
    "x=np.round(eigenvalue1,decimals=3)\n",
    "print(x) # 10-15 components seems to be enough to cover the variance"
   ]
  },
  {
   "cell_type": "code",
   "execution_count": null,
   "id": "satisfied-wisconsin",
   "metadata": {},
   "outputs": [],
   "source": []
  },
  {
   "cell_type": "code",
   "execution_count": 52,
   "id": "traditional-dutch",
   "metadata": {},
   "outputs": [
    {
     "name": "stdout",
     "output_type": "stream",
     "text": [
      "17.734926865139567\n"
     ]
    },
    {
     "data": {
      "image/png": "[encoded data removed]",
      "text/plain": [
       "<Figure size 432x288 with 1 Axes>"
      ]
     },
     "metadata": {
      "needs_background": "light"
     },
     "output_type": "display_data"
    }
   ],
   "source": [
    "\"\"\"\n",
    "plotting the RMSE error vs the number of EOF modes considered\n",
    "\"\"\"\n",
    "x_components=[]\n",
    "y_error=[]\n",
    "for k in range(99):\n",
    "    totalerror=0.0\n",
    "    pcs=solver.pcs(pcscaling = 0 , npcs=k+1)\n",
    "    eofs=solver.eofs(eofscaling = 0, neofs=k+1)\n",
    "    new_matrix = np.matmul(pcs,eofs)  \n",
    "    for i in range(m):\n",
    "        for j in range(n):\n",
    "            totalerror+=(east_matrix[i][j]-new_matrix[i][j])**2\n",
    "    x_components.append(k+1)\n",
    "    y_error.append((totalerror/(m*n))**0.5)\n",
    "plt.xlabel(\"EOF modes considered\")\n",
    "plt.ylabel(\"RMSE error\")\n",
    "plt.plot(x_components,y_error)\n",
    "print(y_error[11])            #error for 12 components"
   ]
  },
  {
   "cell_type": "code",
   "execution_count": 53,
   "id": "loved-trace",
   "metadata": {},
   "outputs": [
    {
     "data": {
      "text/plain": [
       "[<matplotlib.lines.Line2D at 0x7f1e2be97190>]"
      ]
     },
     "execution_count": 53,
     "metadata": {},
     "output_type": "execute_result"
    },
    {
     "data": {
      "image/png": "[encoded data removed]",
      "text/plain": [
       "<Figure size 432x288 with 1 Axes>"
      ]
     },
     "metadata": {
      "needs_background": "light"
     },
     "output_type": "display_data"
    }
   ],
   "source": [
    "\"\"\"\n",
    "plotting the variance expressed vs the no. of EOF modes considered\n",
    "\"\"\"\n",
    "variance_covered=0.0\n",
    "y=[]\n",
    "x=[]\n",
    "for i in range(99):\n",
    "    variance_covered+=eigenvalue1[i]\n",
    "    y.append(variance_covered)\n",
    "    x.append(i)\n",
    "xmin, xmax = plt.xlim()\n",
    "ymin, ymax = plt.ylim()\n",
    "scale_factor=18\n",
    "plt.xlim(xmin * scale_factor, xmax * scale_factor)\n",
    "plt.xlabel(\"EOF modes considered\")\n",
    "plt.ylabel(\"Variability covered\")\n",
    "plt.plot(x,y)\n",
    "#plot of variance covered v/s the number of components taken. we see graph flats out at approx 10-15 components.\n",
    "#so we'll fix number of components to 12"
   ]
  },
  {
   "cell_type": "code",
   "execution_count": 54,
   "id": "tight-recognition",
   "metadata": {},
   "outputs": [
    {
     "name": "stdout",
     "output_type": "stream",
     "text": [
      "[[  30.44373737   30.89292929   33.15212121 ...  151.94555556\n",
      "   151.96191919  151.46545455]\n",
      " [   0.            0.            0.         ...  -38.80444444\n",
      "   -38.79808081  -38.63454545]\n",
      " [ -79.11626263  -82.46707071  -84.07787879 ...   41.49555556\n",
      "    41.35191919   41.13545455]\n",
      " ...\n",
      " [   0.            0.            0.         ...  568.89555556\n",
      "   568.42191919  567.61545455]\n",
      " [   0.            0.            0.         ... -187.60444444\n",
      "  -183.43808081 -182.41454545]\n",
      " [   0.            0.            0.         ... -179.09444444\n",
      "  -179.99808081 -179.50454545]]\n"
     ]
    }
   ],
   "source": [
    "print(east_matrix)"
   ]
  },
  {
   "cell_type": "code",
   "execution_count": 55,
   "id": "conditional-profession",
   "metadata": {},
   "outputs": [
    {
     "name": "stdout",
     "output_type": "stream",
     "text": [
      "[[  30.44373737   30.89292929   33.15212121 ...  151.94555556\n",
      "   151.96191919  151.46545455]\n",
      " [-135.94520598 -136.37865728 -136.14212117 ...  -38.80444444\n",
      "   -38.79808081  -38.63454545]\n",
      " [ -79.11626263  -82.46707071  -84.07787879 ...   41.49555556\n",
      "    41.35191919   41.13545455]\n",
      " ...\n",
      " [-416.67989923 -420.8655369  -415.5828609  ...  568.89555556\n",
      "   568.42191919  567.61545455]\n",
      " [ -56.18704801  -58.53592149  -56.53638719 ... -187.60444444\n",
      "  -183.43808081 -182.41454545]\n",
      " [ -19.58790717  -19.60088412  -18.71642022 ... -179.09444444\n",
      "  -179.99808081 -179.50454545]]\n"
     ]
    }
   ],
   "source": [
    "\"\"\"\n",
    "Refining the matrix obtained after reconstructing with 12 EOF modes.\n",
    "beta value (value for convergence) has been set to 1e-6. \n",
    "You can decrease it if you want a more refined value\n",
    "\"\"\"\n",
    "temp_matrix=org_matrix\n",
    "comp_considered=12\n",
    "start=time.time()\n",
    "for k in range(comp_considered):\n",
    "    while(1):\n",
    "        solver=Eof(temp_matrix)\n",
    "        pcs=solver.pcs(pcscaling=0,npcs=k+1)\n",
    "        eofs=solver.eofs(eofscaling=0,neofs=k+1)\n",
    "        x_ = np.matmul(pcs,eofs)\n",
    "        for i in range(m):\n",
    "            for j in range(n):\n",
    "                if(org_matrix[i][j] != 0):\n",
    "                    x_[i][j]=org_matrix[i][j]\n",
    "        error=x_ - temp_matrix\n",
    "        error=np.square(error)\n",
    "        var1=np.sum(error)\n",
    "        error2=np.square(x_)\n",
    "        var2=np.sum(error2)\n",
    "        temp_matrix=x_\n",
    "        #print(k+1, var1/var2)\n",
    "        if(var1/var2 < 0.000001):\n",
    "            break\n",
    "end=time.time()\n",
    "print(temp_matrix)"
   ]
  },
  {
   "cell_type": "code",
   "execution_count": 56,
   "id": "incredible-johnson",
   "metadata": {},
   "outputs": [
    {
     "name": "stdout",
     "output_type": "stream",
     "text": [
      "Run time is: 214.3374481201172 seconds\n"
     ]
    }
   ],
   "source": [
    "print(\"Run time is:\",end-start, \"seconds\")"
   ]
  },
  {
   "cell_type": "code",
   "execution_count": 57,
   "id": "inside-bachelor",
   "metadata": {},
   "outputs": [
    {
     "name": "stdout",
     "output_type": "stream",
     "text": [
      "[[  30.44373737   30.89292929   33.15212121 ...  151.94555556\n",
      "   151.96191919  151.46545455]\n",
      " [   0.            0.            0.         ...  -38.80444444\n",
      "   -38.79808081  -38.63454545]\n",
      " [ -79.11626263  -82.46707071  -84.07787879 ...   41.49555556\n",
      "    41.35191919   41.13545455]\n",
      " ...\n",
      " [   0.            0.            0.         ...  568.89555556\n",
      "   568.42191919  567.61545455]\n",
      " [   0.            0.            0.         ... -187.60444444\n",
      "  -183.43808081 -182.41454545]\n",
      " [   0.            0.            0.         ... -179.09444444\n",
      "  -179.99808081 -179.50454545]]\n"
     ]
    }
   ],
   "source": [
    "print(org_matrix)"
   ]
  },
  {
   "cell_type": "code",
   "execution_count": 58,
   "id": "standing-solution",
   "metadata": {},
   "outputs": [
    {
     "name": "stdout",
     "output_type": "stream",
     "text": [
      "[[ -58.01        -57.38        -55.36       ...  409.92\n",
      "   410.25        409.03      ]\n",
      " [-224.39894336 -224.65158658 -224.65424238 ...  219.17\n",
      "   219.49        218.93      ]\n",
      " [-167.57       -170.74       -172.59       ...  299.47\n",
      "   299.64        298.7       ]\n",
      " ...\n",
      " [-505.13363661 -509.13846619 -504.09498212 ...  826.87\n",
      "   826.71        825.18      ]\n",
      " [-144.64078538 -146.80885078 -145.0485084  ...   70.37\n",
      "    74.85         75.15      ]\n",
      " [-108.04164454 -107.87381342 -107.22854143 ...   78.88\n",
      "    78.29         78.06      ]]\n"
     ]
    }
   ],
   "source": [
    "for i in range(m):\n",
    "    for j in range(n):\n",
    "        temp_matrix[i][j]+=l[j]\n",
    "print(temp_matrix) #reconstructed and refined dataset after applying iterative EOF analysis"
   ]
  },
  {
   "cell_type": "markdown",
   "id": "preceding-rocket",
   "metadata": {},
   "source": [
    "<h2> The assignment ends here.</h2>\n",
    "<h4>\n",
    "    Below is a test on the cross validation set showing the correctness of the EOF based gap filling method.\n",
    "</h4>\n",
    "\n",
    "\n",
    "   A submatrix of size 10 * 10 is taken from the original data set and 10 values are randomly set to 0.\n",
    "   Number of ideal components are select to express maximum variance.\n",
    "   The iterative refinement is done and finally the obtained values are compared with the original values.\n",
    "\n",
    "-beta is set to 1e-06<br>\n",
    "-number of components to cover maximum variance is taken to be 7"
   ]
  },
  {
   "cell_type": "code",
   "execution_count": 75,
   "id": "positive-testimony",
   "metadata": {},
   "outputs": [
    {
     "name": "stdout",
     "output_type": "stream",
     "text": [
      "[[ 114.06149495  114.90917172  110.84984848    0.          116.82763636\n",
      "   117.23593939  120.31178788  117.42906061  115.72554545  118.74045455]\n",
      " [   0.            0.            0.            0.            0.\n",
      "     0.            0.            0.            0.            0.        ]\n",
      " [   4.50149495    1.54917172    0.            0.            4.31763636\n",
      "    10.12593939    2.93178788    7.04906061   11.36554545    2.53045455]\n",
      " [   0.            0.           46.82984848    0.           56.42763636\n",
      "    55.99593939   58.24178788   56.78906061   56.73554545   55.39045455]\n",
      " [  67.83149495   75.70917172   65.09984848   64.56893939   73.78763636\n",
      "    70.86593939   62.85178788   70.33906061   73.84554545   72.32045455]\n",
      " [   0.            0.            0.            0.            0.\n",
      "     0.            0.            0.            0.            0.        ]\n",
      " [  -5.62850505   -5.04082828  -10.49015152  -10.72106061   -2.84236364\n",
      "    -2.87406061   -2.14821212   -2.39093939   -2.82445455   -2.48954545]\n",
      " [  20.80149495   15.49917172   15.87984848   17.60893939   25.33763636\n",
      "    23.52593939   24.81178788   23.19906061   20.67554545   25.72045455]\n",
      " [   0.            0.            0.            0.            0.\n",
      "     0.            0.            0.            0.            0.        ]\n",
      " [-536.03850505 -538.69082828 -538.96015152 -539.45106061 -532.23236364\n",
      "  -533.68406061 -530.59821212 -534.52093939 -533.32445455 -530.72954545]]\n"
     ]
    }
   ],
   "source": [
    "cross_valid_set=np.zeros((10,10))\n",
    "new_org_matrix=np.zeros((10,10))\n",
    "t=[]\n",
    "for i in range(10):\n",
    "    for j in range(10):\n",
    "        cross_valid_set[i][j]=org_matrix[i][j]\n",
    "        new_org_matrix[i][j]=org_matrix[i][j]\n",
    "l=[]\n",
    "\n",
    "for i in range(10):\n",
    "    a=random.randint(0,4)\n",
    "    b=random.randint(0,4)\n",
    "    t.append((a,b))\n",
    "    new_org_matrix[a][b]=0\n",
    "    cross_valid_set[a][b]=0\n",
    "for j in range(10):\n",
    "    sum=0.0\n",
    "    count=0\n",
    "    for i in range(10):\n",
    "        sum+=cross_valid_set[i][j]\n",
    "        count+=1\n",
    "    sum/=count\n",
    "    l.append(sum)\n",
    "    for i in range(10):\n",
    "        if(cross_valid_set[i][j]!=0):\n",
    "            cross_valid_set[i][j]-=sum\n",
    "print(cross_valid_set)"
   ]
  },
  {
   "cell_type": "code",
   "execution_count": 76,
   "id": "acquired-magazine",
   "metadata": {},
   "outputs": [
    {
     "data": {
      "text/plain": [
       "[<matplotlib.lines.Line2D at 0x7f1e2c81d2d0>]"
      ]
     },
     "execution_count": 76,
     "metadata": {},
     "output_type": "execute_result"
    },
    {
     "data": {
      "image/png": "[encoded data removed]",
      "text/plain": [
       "<Figure size 432x288 with 1 Axes>"
      ]
     },
     "metadata": {
      "needs_background": "light"
     },
     "output_type": "display_data"
    }
   ],
   "source": [
    "solver=Eof(cross_valid_set)\n",
    "eigenvalues =  solver.varianceFraction()\n",
    "eigenvalue1 = solver.varianceFraction(neigs=99)\n",
    "variance_covered=0.0\n",
    "y=[]\n",
    "x=[]\n",
    "for i in range(len(eigenvalue1)):\n",
    "    variance_covered+=eigenvalue1[i]\n",
    "    y.append(variance_covered)\n",
    "    x.append(i)\n",
    "xmin, xmax = plt.xlim()\n",
    "ymin, ymax = plt.ylim()\n",
    "scale_factor=10\n",
    "plt.xlim(xmin * scale_factor, xmax * scale_factor)\n",
    "plt.xlabel(\"EOF modes considered\")\n",
    "plt.ylabel(\"Variability covered\")\n",
    "plt.plot(x,y)"
   ]
  },
  {
   "cell_type": "code",
   "execution_count": 77,
   "id": "civic-walker",
   "metadata": {},
   "outputs": [
    {
     "name": "stdout",
     "output_type": "stream",
     "text": [
      "[[  30.44373737   30.89292929   33.15212121   31.21865882   30.70212121\n",
      "    30.96646465   32.4459596    30.06020202   29.79181818   32.56818182]\n",
      " [ 288.53839666  289.68752013  286.11548547  286.58708799  287.16663709\n",
      "   287.63233249  292.35537173  290.70842758  286.56209151  287.27118375]\n",
      " [ -79.11626263  -82.46707071  -80.96674048  -80.41117689  -81.80787879\n",
      "   -76.14353535  -84.9340404   -80.31979798  -74.56818182  -83.64181818]\n",
      " [ -29.66700709  -29.60332022  -30.86787879  -30.51182758  -29.69787879\n",
      "   -30.27353535  -29.6240404   -30.57979798  -29.19818182  -30.78181818]\n",
      " [ -15.78626263   -8.30707071  -12.59787879  -13.43010101  -12.33787879\n",
      "   -15.40353535  -25.0140404   -17.02979798  -12.08818182  -13.85181818]\n",
      " [ 288.53839666  289.68752013  286.11548547  286.58708799  287.16663709\n",
      "   287.63233249  292.35537173  290.70842758  286.56209151  287.27118375]\n",
      " [ -89.24626263  -89.05707071  -88.18787879  -88.72010101  -88.96787879\n",
      "   -89.14353535  -90.0140404   -89.75979798  -88.75818182  -88.66181818]\n",
      " [ -62.81626263  -68.51707071  -61.81787879  -60.39010101  -60.78787879\n",
      "   -62.74353535  -63.0540404   -64.16979798  -65.25818182  -60.45181818]\n",
      " [ 288.53839666  289.68752013  286.11548547  286.58708799  287.16663709\n",
      "   287.63233249  292.35537173  290.70842758  286.56209151  287.27118375]\n",
      " [-619.65626263 -622.70707071 -616.65787879 -617.45010101 -618.35787879\n",
      "  -619.95353535 -618.4640404  -621.88979798 -619.25818182 -616.90181818]]\n"
     ]
    }
   ],
   "source": [
    "temp_matrix= cross_valid_set\n",
    "comp_considered=7\n",
    "for k in range(comp_considered):\n",
    "    while(1):\n",
    "        solver=Eof(temp_matrix)\n",
    "        pcs=solver.pcs(pcscaling=0,npcs=k+1)\n",
    "        eofs=solver.eofs(eofscaling=0,neofs=k+1)\n",
    "        x_ = np.matmul(pcs,eofs)\n",
    "        for i in range(10):\n",
    "            for j in range(10):\n",
    "                if(new_org_matrix[i][j] != 0):\n",
    "                    x_[i][j]=new_org_matrix[i][j]\n",
    "        error=x_ - temp_matrix\n",
    "        error=np.square(error)\n",
    "        var1=np.sum(error)\n",
    "        error2=np.square(x_)\n",
    "        var2=np.sum(error2)\n",
    "        temp_matrix=x_\n",
    "        #print(k+1, var1/var2)\n",
    "        #print(x_[10][35])\n",
    "        \n",
    "        if(var1/var2 < 0.000001):\n",
    "            break\n",
    "print(temp_matrix)"
   ]
  },
  {
   "cell_type": "code",
   "execution_count": 78,
   "id": "southeast-payday",
   "metadata": {},
   "outputs": [
    {
     "name": "stdout",
     "output_type": "stream",
     "text": [
      "-109.05914141414138 -108.5108679825104\n",
      "-109.05914141414138 -108.5108679825104\n",
      "-161.7756060606061 -158.66446775279232\n",
      "-109.05914141414138 -108.5108679825104\n",
      "-115.08402020202017 -113.28476466471153\n",
      "-162.33914141414138 -158.41021729304106\n",
      "-115.68331313131308 -113.61956264842938\n",
      "-46.109141414141384 -46.78038158457877\n"
     ]
    }
   ],
   "source": [
    "for i in range(len(t)):\n",
    "    if(org_matrix[t[i][0]][t[i][1]]!=0): #don't consider values which were missing in the original data set.\n",
    "        print(org_matrix[t[i][0]][t[i][1]]+l[t[i][1]] , temp_matrix[t[i][0]][t[i][1]]+l[t[i][1]])"
   ]
  },
  {
   "cell_type": "code",
   "execution_count": null,
   "id": "religious-infrared",
   "metadata": {},
   "outputs": [],
   "source": []
  },
  {
   "cell_type": "code",
   "execution_count": null,
   "id": "fundamental-secret",
   "metadata": {},
   "outputs": [],
   "source": []
  }
 ],
 "metadata": {
  "kernelspec": {
   "display_name": "Python 3",
   "language": "python",
   "name": "python3"
  },
  "language_info": {
   "codemirror_mode": {
    "name": "ipython",
    "version": 3
   },
   "file_extension": ".py",
   "mimetype": "text/x-python",
   "name": "python",
   "nbconvert_exporter": "python",
   "pygments_lexer": "ipython3",
   "version": "3.7.6"
  }
 },
 "nbformat": 4,
 "nbformat_minor": 5
}
