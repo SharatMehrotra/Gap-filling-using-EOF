{
 "cells": [
  {
   "cell_type": "markdown",
   "id": "theoretical-kidney",
   "metadata": {},
   "source": [
    "<h2>\n",
    "    Gap-filling on GPS data sets using iterative EOF and time series analysis\n",
    "</h2>\n",
    "    <h4>This for the East_NZ2009.csv data set.<br></h4>\n",
    "    Libraries used-<br>\n",
    "    numpy<br>\n",
    "    pandas<br>\n",
    "    os <br>\n",
    "    matplotlib <br>\n",
    "    eofs.standard <br>\n",
    "    random <br><br>\n",
    "    An iterative algorithm, EOF analysis, has been suggested the retrieve the missing values in CGPS data. Using the data, we first construct a spatial-temporal matrix. The missing values are then initialized appropriately. The method then decomposes the constructed matrix into different EOF modes. The optimum number of EOF modes are selected such that we are able to cover maximum variability in the data. The matrix is reconstructed using the number of modes calculated. An iterative update of missing values is performed, which gives the best estimate of missing data points. To verify the correctness of this method, 1-2% of the given data has been used as the cross-validation-set, to see if the missing values can be estimated correctly or not.\n",
    "    \n",
    " <h6>\n",
    "    The cross validation test is done at the end\n",
    " </h6>"
   ]
  },
  {
   "cell_type": "code",
   "execution_count": 1,
   "id": "dirty-hotel",
   "metadata": {},
   "outputs": [],
   "source": [
    "import numpy as np\n",
    "import pandas as pd\n",
    "import os\n",
    "import matplotlib.pyplot as plt\n",
    "from eofs.standard import Eof \n",
    "import random\n",
    "import time"
   ]
  },
  {
   "cell_type": "code",
   "execution_count": 2,
   "id": "advance-admission",
   "metadata": {},
   "outputs": [
    {
     "name": "stdout",
     "output_type": "stream",
     "text": [
      "[[  -4.13   -3.62   -3.97 ...   45.87   45.81   47.1 ]\n",
      " [   0.      0.      0.   ...   20.93   20.11   19.46]\n",
      " [  91.18   93.82   95.17 ... -137.53 -137.49 -136.58]\n",
      " ...\n",
      " [   0.      0.      0.   ...  228.64  229.2   230.53]\n",
      " [   0.      0.      0.   ...  -66.19  -66.97  -66.69]\n",
      " [   0.      0.      0.   ... -101.33 -100.89 -100.68]]\n",
      "99\n",
      "4291\n"
     ]
    }
   ],
   "source": [
    "df=pd.read_csv('East_NZ2009.csv', sep=',',header=None)       # reading the .csv files and converting to dataframe\n",
    "east_matrix = np.array(df.to_numpy())                        #convert to numpy array\n",
    "east_matrix = east_matrix.T                        # take transpose\n",
    "m = len(east_matrix)                        #rows\n",
    "n = len(east_matrix[0])                     #columns\n",
    "east_matrix = np.nan_to_num(east_matrix)    #fill NaN with 0\n",
    "org_matrix=east_matrix                        #store the current matrix as or\n",
    "print(east_matrix)\n",
    "print(m)\n",
    "print(n)"
   ]
  },
  {
   "cell_type": "code",
   "execution_count": 3,
   "id": "incredible-white",
   "metadata": {},
   "outputs": [],
   "source": [
    "\"\"\"\n",
    "Subtracting the spatial mean from each column. The mean is stored in an array so that it can be added later\n",
    "\"\"\"\n",
    "l=[]\n",
    "for j in range(n):\n",
    "    sum=0.0\n",
    "    count=0\n",
    "    for i in range(m):\n",
    "        sum+=east_matrix[i][j]\n",
    "        count+=1\n",
    "    sum/=count\n",
    "    l.append(sum)\n",
    "    for i in range(m):\n",
    "        if(east_matrix[i][j]!=0):\n",
    "            east_matrix[i][j]-=sum"
   ]
  },
  {
   "cell_type": "code",
   "execution_count": 4,
   "id": "personalized-destruction",
   "metadata": {},
   "outputs": [
    {
     "name": "stdout",
     "output_type": "stream",
     "text": [
      "[[-48.5848848  -48.54741576 -48.57275405 ...  99.90147161  99.58836253\n",
      "   99.80341608]\n",
      " [ -3.6553062   -3.12008263  -3.32874435 ...  73.3312275   73.15484367\n",
      "   73.38873183]\n",
      " [ 36.14581544  35.58984589  36.04639022 ... -84.13218536 -83.94526463\n",
      "  -83.96110547]\n",
      " ...\n",
      " [ -1.23360915  -1.46339503  -1.45331129 ... 283.23795627 282.63465703\n",
      "  283.62697289]\n",
      " [ -9.1903738   -5.26136653  -8.07794489 ...  -6.61232727  -7.38226314\n",
      "   -7.61154249]\n",
      " [ -9.25998385  -8.27488974  -8.91735121 ... -41.42499636 -41.94304398\n",
      "  -41.88317319]]\n"
     ]
    }
   ],
   "source": [
    "\"\"\"\n",
    "Example of reconstructing the matrix using 12 components\n",
    "\"\"\"\n",
    "solver = Eof(east_matrix) \n",
    "components=12\n",
    "pcs=solver.pcs(pcscaling = 0 , npcs=components)\n",
    "eofs=solver.eofs(eofscaling = 0, neofs=components)\n",
    "new_matrix = np.matmul(pcs,eofs)  \n",
    "print(new_matrix)"
   ]
  },
  {
   "cell_type": "code",
   "execution_count": 5,
   "id": "dedicated-transition",
   "metadata": {},
   "outputs": [],
   "source": [
    "eigenvalues =  solver.varianceFraction()\n",
    "eigenvalue1 = solver.varianceFraction(neigs=99)"
   ]
  },
  {
   "cell_type": "code",
   "execution_count": 6,
   "id": "blond-walker",
   "metadata": {},
   "outputs": [
    {
     "name": "stdout",
     "output_type": "stream",
     "text": [
      "(99,)\n"
     ]
    }
   ],
   "source": [
    "print(eigenvalue1.shape) #shape of numpy array for 99 components"
   ]
  },
  {
   "cell_type": "code",
   "execution_count": 7,
   "id": "informational-interface",
   "metadata": {},
   "outputs": [
    {
     "name": "stdout",
     "output_type": "stream",
     "text": [
      "0.9999999999999996\n"
     ]
    }
   ],
   "source": [
    "sum=0.0\n",
    "for i in range(len(eigenvalue1)):\n",
    "    sum+=eigenvalue1[i]\n",
    "print(sum)   #total variance- will be 1.00"
   ]
  },
  {
   "cell_type": "code",
   "execution_count": 8,
   "id": "infectious-petersburg",
   "metadata": {},
   "outputs": [
    {
     "name": "stdout",
     "output_type": "stream",
     "text": [
      "[7.3034e+01 1.8357e+01 4.0750e+00 2.0330e+00 7.8900e-01 4.0500e-01\n",
      " 2.6600e-01 2.0800e-01 1.8200e-01 1.0800e-01 7.3000e-02 5.5000e-02\n",
      " 4.6000e-02 4.1000e-02 3.6000e-02 3.4000e-02 3.1000e-02 2.6000e-02\n",
      " 1.9000e-02 1.7000e-02 1.6000e-02 1.4000e-02 1.3000e-02 1.0000e-02\n",
      " 9.0000e-03 8.0000e-03 7.0000e-03 6.0000e-03 6.0000e-03 6.0000e-03\n",
      " 5.0000e-03 4.0000e-03 4.0000e-03 4.0000e-03 3.0000e-03 3.0000e-03\n",
      " 3.0000e-03 2.0000e-03 2.0000e-03 2.0000e-03 2.0000e-03 2.0000e-03\n",
      " 2.0000e-03 2.0000e-03 2.0000e-03 2.0000e-03 2.0000e-03 1.0000e-03\n",
      " 1.0000e-03 1.0000e-03 1.0000e-03 1.0000e-03 1.0000e-03 1.0000e-03\n",
      " 1.0000e-03 1.0000e-03 1.0000e-03 1.0000e-03 1.0000e-03 1.0000e-03\n",
      " 1.0000e-03 1.0000e-03 1.0000e-03 1.0000e-03 1.0000e-03 0.0000e+00\n",
      " 0.0000e+00 0.0000e+00 0.0000e+00 0.0000e+00 0.0000e+00 0.0000e+00\n",
      " 0.0000e+00 0.0000e+00 0.0000e+00 0.0000e+00 0.0000e+00 0.0000e+00\n",
      " 0.0000e+00 0.0000e+00 0.0000e+00 0.0000e+00 0.0000e+00 0.0000e+00\n",
      " 0.0000e+00 0.0000e+00 0.0000e+00 0.0000e+00 0.0000e+00 0.0000e+00\n",
      " 0.0000e+00 0.0000e+00 0.0000e+00 0.0000e+00 0.0000e+00 0.0000e+00\n",
      " 0.0000e+00 0.0000e+00 0.0000e+00]\n"
     ]
    }
   ],
   "source": [
    "\"\"\"\n",
    "finding the % of variance explained by each component \n",
    "\"\"\"\n",
    "for i in range(len(eigenvalue1)):  \n",
    "    eigenvalue1[i]*=100\n",
    "    eigenvalue1[i]/=sum\n",
    "x=np.round(eigenvalue1,decimals=3)\n",
    "print(x) # 10 components seems to be enough to cover the variance"
   ]
  },
  {
   "cell_type": "code",
   "execution_count": 9,
   "id": "traditional-dutch",
   "metadata": {},
   "outputs": [
    {
     "name": "stdout",
     "output_type": "stream",
     "text": [
      "7.8187468950410945\n"
     ]
    },
    {
     "data": {
      "image/png": "[encoded data removed]",
      "text/plain": [
       "<Figure size 432x288 with 1 Axes>"
      ]
     },
     "metadata": {
      "needs_background": "light"
     },
     "output_type": "display_data"
    }
   ],
   "source": [
    "\"\"\"\n",
    "plotting the RMSE error  after constructing the matrix with k components vs the number of EOF modes considered\n",
    "\"\"\"\n",
    "x_components=[]\n",
    "y_error=[]\n",
    "for k in range(99):\n",
    "    totalerror=0.0\n",
    "    pcs=solver.pcs(pcscaling = 0 , npcs=k+1)\n",
    "    eofs=solver.eofs(eofscaling = 0, neofs=k+1)\n",
    "    new_matrix = np.matmul(pcs,eofs)  \n",
    "    for i in range(m):\n",
    "        for j in range(n):\n",
    "            totalerror+=(east_matrix[i][j]-new_matrix[i][j])**2\n",
    "    x_components.append(k+1)\n",
    "    y_error.append((totalerror/(m*n))**0.5)\n",
    "plt.xlabel(\"EOF modes considered\")\n",
    "plt.ylabel(\"RMSE error\")\n",
    "plt.plot(x_components,y_error)\n",
    "print(y_error[11])            #error for 12 components"
   ]
  },
  {
   "cell_type": "code",
   "execution_count": 10,
   "id": "loved-trace",
   "metadata": {},
   "outputs": [
    {
     "data": {
      "text/plain": [
       "[<matplotlib.lines.Line2D at 0x7f14544d13d0>]"
      ]
     },
     "execution_count": 10,
     "metadata": {},
     "output_type": "execute_result"
    },
    {
     "data": {
      "image/png": "[encoded data removed]",
      "text/plain": [
       "<Figure size 432x288 with 1 Axes>"
      ]
     },
     "metadata": {
      "needs_background": "light"
     },
     "output_type": "display_data"
    }
   ],
   "source": [
    "\"\"\"\n",
    "plotting the variance expressed vs the no. of EOF modes considered\n",
    "\"\"\"\n",
    "variance_covered=0.0\n",
    "y=[]\n",
    "x=[]\n",
    "for i in range(m):\n",
    "    variance_covered+=eigenvalue1[i]\n",
    "    y.append(variance_covered)\n",
    "    x.append(i)\n",
    "xmin, xmax = plt.xlim()\n",
    "ymin, ymax = plt.ylim()\n",
    "scale_factor=18\n",
    "plt.xlim(xmin * scale_factor, xmax * scale_factor)\n",
    "plt.xlabel(\"EOF modes considered\")\n",
    "plt.ylabel(\"Variability covered\")\n",
    "plt.plot(x,y)\n",
    "#plot of variance covered v/s the number of components taken. we see graph flats out at approx 10-15 components.\n",
    "#so we'll fix number of components to 12"
   ]
  },
  {
   "cell_type": "code",
   "execution_count": 11,
   "id": "tight-recognition",
   "metadata": {},
   "outputs": [
    {
     "name": "stdout",
     "output_type": "stream",
     "text": [
      "[[-38.21474747 -38.33474747 -38.24767677 ...  95.14757576  94.40323232\n",
      "   95.01909091]\n",
      " [  0.           0.           0.         ...  70.20757576  68.70323232\n",
      "   67.37909091]\n",
      " [ 57.09525253  59.10525253  60.89232323 ... -88.25242424 -88.89676768\n",
      "  -88.66090909]\n",
      " ...\n",
      " [  0.           0.           0.         ... 277.91757576 277.79323232\n",
      "  278.44909091]\n",
      " [  0.           0.           0.         ... -16.91242424 -18.37676768\n",
      "  -18.77090909]\n",
      " [  0.           0.           0.         ... -52.05242424 -52.29676768\n",
      "  -52.76090909]]\n"
     ]
    }
   ],
   "source": [
    "print(east_matrix) #after subtracting the spatial mean from the original matrix"
   ]
  },
  {
   "cell_type": "code",
   "execution_count": 12,
   "id": "conditional-profession",
   "metadata": {},
   "outputs": [
    {
     "name": "stdout",
     "output_type": "stream",
     "text": [
      "[[ -38.21474747  -38.33474747  -38.24767677 ...   95.14757576\n",
      "    94.40323232   95.01909091]\n",
      " [ -24.55228123  -23.40956486  -24.16569681 ...   70.20757576\n",
      "    68.70323232   67.37909091]\n",
      " [  57.09525253   59.10525253   60.89232323 ...  -88.25242424\n",
      "   -88.89676768  -88.66090909]\n",
      " ...\n",
      " [-195.58001299 -197.06144474 -197.10607136 ...  277.91757576\n",
      "   277.79323232  278.44909091]\n",
      " [ 300.72650227  298.99167634  300.44909664 ...  -16.91242424\n",
      "   -18.37676768  -18.77090909]\n",
      " [ 325.77929225  325.04603218  325.80648714 ...  -52.05242424\n",
      "   -52.29676768  -52.76090909]]\n"
     ]
    }
   ],
   "source": [
    "\"\"\"\n",
    "Refining the matrix obtained after reconstructing with 12 EOF modes.\n",
    "beta value (value for convergence) has been set to 1e-6. \n",
    "You can decrease it if you want a more refined value\n",
    "\"\"\"\n",
    "temp_matrix=org_matrix\n",
    "comp_considered=12\n",
    "start=time.time()\n",
    "for k in range(comp_considered):\n",
    "    while(1):\n",
    "        solver=Eof(temp_matrix)\n",
    "        pcs=solver.pcs(pcscaling=0,npcs=k+1)\n",
    "        eofs=solver.eofs(eofscaling=0,neofs=k+1)\n",
    "        x_ = np.matmul(pcs,eofs)\n",
    "        for i in range(m):\n",
    "            for j in range(n):\n",
    "                if(org_matrix[i][j] != 0):\n",
    "                    x_[i][j]=org_matrix[i][j]\n",
    "        error=x_ - temp_matrix\n",
    "        error=np.square(error)\n",
    "        var1=np.sum(error)\n",
    "        error2=np.square(x_)\n",
    "        var2=np.sum(error2)\n",
    "        temp_matrix=x_\n",
    "        #print(k+1, var1/var2)\n",
    "        if(var1/var2 < 0.000001):\n",
    "            break\n",
    "end=time.time()\n",
    "print(temp_matrix)"
   ]
  },
  {
   "cell_type": "code",
   "execution_count": 13,
   "id": "bulgarian-staff",
   "metadata": {},
   "outputs": [
    {
     "name": "stdout",
     "output_type": "stream",
     "text": [
      "Run time is: 280.2284324169159 seconds\n"
     ]
    }
   ],
   "source": [
    "print(\"Run time is:\",end-start, \"seconds\")"
   ]
  },
  {
   "cell_type": "code",
   "execution_count": 14,
   "id": "inside-bachelor",
   "metadata": {},
   "outputs": [
    {
     "name": "stdout",
     "output_type": "stream",
     "text": [
      "[[-38.21474747 -38.33474747 -38.24767677 ...  95.14757576  94.40323232\n",
      "   95.01909091]\n",
      " [  0.           0.           0.         ...  70.20757576  68.70323232\n",
      "   67.37909091]\n",
      " [ 57.09525253  59.10525253  60.89232323 ... -88.25242424 -88.89676768\n",
      "  -88.66090909]\n",
      " ...\n",
      " [  0.           0.           0.         ... 277.91757576 277.79323232\n",
      "  278.44909091]\n",
      " [  0.           0.           0.         ... -16.91242424 -18.37676768\n",
      "  -18.77090909]\n",
      " [  0.           0.           0.         ... -52.05242424 -52.29676768\n",
      "  -52.76090909]]\n"
     ]
    }
   ],
   "source": [
    "print(org_matrix) #orginal matrix with missing values"
   ]
  },
  {
   "cell_type": "code",
   "execution_count": 15,
   "id": "standing-solution",
   "metadata": {},
   "outputs": [
    {
     "name": "stdout",
     "output_type": "stream",
     "text": [
      "[[  -4.13         -3.62         -3.97       ...   45.87\n",
      "    45.81         47.1       ]\n",
      " [   9.53246624   11.30518262   10.11197996 ...   20.93\n",
      "    20.11         19.46      ]\n",
      " [  91.18         93.82         95.17       ... -137.53\n",
      "  -137.49       -136.58      ]\n",
      " ...\n",
      " [-161.49526551 -162.34669727 -162.82839459 ...  228.64\n",
      "   229.2         230.53      ]\n",
      " [ 334.81124974  333.70642382  334.7267734  ...  -66.19\n",
      "   -66.97        -66.69      ]\n",
      " [ 359.86403973  359.76077965  360.0841639  ... -101.33\n",
      "  -100.89       -100.68      ]]\n"
     ]
    }
   ],
   "source": [
    "for i in range(m):\n",
    "    for j in range(n):\n",
    "        temp_matrix[i][j]+=l[j]\n",
    "print(temp_matrix) #reconstructed and refined dataset after applying iterative EOF analysis"
   ]
  },
  {
   "cell_type": "markdown",
   "id": "pretty-assault",
   "metadata": {},
   "source": [
    "<h2> The assignment ends here.</h2>\n",
    "<h4>\n",
    "    Below is a test on the cross validation set showing the correctness of the EOF based gap filling method.\n",
    "</h4>\n",
    "\n",
    "\n",
    "   A submatrix of size 10 * 10 is taken from the original data set and 10 values are randomly set to 0.\n",
    "   Number of ideal components are select to express maximum variance.\n",
    "   The iterative refinement is done and finally the obtained values are compared with the original values.\n",
    "\n",
    "-beta is set to 1e-06<br>\n",
    "-number of components to cover maximum variance is taken to be 8"
   ]
  },
  {
   "cell_type": "code",
   "execution_count": 24,
   "id": "nutritional-president",
   "metadata": {},
   "outputs": [
    {
     "name": "stdout",
     "output_type": "stream",
     "text": [
      "[[   0.          -52.12089899  -39.59660606  -57.89748485    0.\n",
      "   -62.71178788  -64.30439394  -64.68263636  -64.55618182  -63.13230303]\n",
      " [   0.            0.            0.            0.            0.\n",
      "     0.            0.            0.            0.            0.        ]\n",
      " [  33.92462626   45.31910101    0.           45.07251515   36.01062626\n",
      "    28.93821212   36.65560606   27.78736364   31.01381818   38.39769697]\n",
      " [  90.85462626    0.            0.           94.93251515   84.60062626\n",
      "    89.85821212   89.93560606   87.75736364   88.89381818   88.14769697]\n",
      " [   0.           43.18910101    0.            0.           29.84062626\n",
      "    29.26821212   41.82560606   44.88736364   33.45381818   33.00769697]\n",
      " [   0.            0.            0.            0.            0.\n",
      "     0.            0.            0.            0.            0.        ]\n",
      " [ 166.86462626  176.29910101  188.05339394  168.31251515  159.09062626\n",
      "   165.66821212  162.46560606  162.98736364  165.37381818  166.09769697]\n",
      " [  52.14462626   61.98910101   69.55339394   52.26251515   41.49062626\n",
      "    49.91821212   46.44560606   50.25736364   49.58381818   45.66769697]\n",
      " [   0.            0.            0.            0.            0.\n",
      "     0.            0.            0.            0.            0.        ]\n",
      " [-227.93537374 -219.53089899 -209.91660606 -227.25748485 -236.56937374\n",
      "  -230.02178788 -233.72439394 -230.72263636 -230.47618182 -234.69230303]]\n"
     ]
    }
   ],
   "source": [
    "cross_valid_set=np.zeros((10,10))\n",
    "new_org_matrix=np.zeros((10,10))\n",
    "t=[]\n",
    "for i in range(10):\n",
    "    for j in range(10):\n",
    "        cross_valid_set[i][j]=org_matrix[i][j]\n",
    "        new_org_matrix[i][j]=org_matrix[i][j]\n",
    "l=[]\n",
    "\n",
    "for i in range(10):\n",
    "    a=random.randint(0,4)\n",
    "    b=random.randint(0,4)\n",
    "    t.append((a,b))\n",
    "    new_org_matrix[a][b]=0\n",
    "    cross_valid_set[a][b]=0\n",
    "for j in range(10):\n",
    "    sum=0.0\n",
    "    count=0\n",
    "    for i in range(10):\n",
    "        sum+=cross_valid_set[i][j]\n",
    "        count+=1\n",
    "    sum/=count\n",
    "    l.append(sum)\n",
    "    for i in range(10):\n",
    "        if(cross_valid_set[i][j]!=0):\n",
    "            cross_valid_set[i][j]-=sum\n",
    "print(cross_valid_set)"
   ]
  },
  {
   "cell_type": "code",
   "execution_count": 25,
   "id": "heated-university",
   "metadata": {},
   "outputs": [
    {
     "data": {
      "text/plain": [
       "[<matplotlib.lines.Line2D at 0x7f1454392890>]"
      ]
     },
     "execution_count": 25,
     "metadata": {},
     "output_type": "execute_result"
    },
    {
     "data": {
      "image/png": "[encoded data removed]",
      "text/plain": [
       "<Figure size 432x288 with 1 Axes>"
      ]
     },
     "metadata": {
      "needs_background": "light"
     },
     "output_type": "display_data"
    }
   ],
   "source": [
    "solver=Eof(cross_valid_set)\n",
    "eigenvalues =  solver.varianceFraction()\n",
    "eigenvalue1 = solver.varianceFraction(neigs=99)\n",
    "variance_covered=0.0\n",
    "y=[]\n",
    "x=[]\n",
    "for i in range(len(eigenvalue1)):\n",
    "    variance_covered+=eigenvalue1[i]\n",
    "    y.append(variance_covered)\n",
    "    x.append(i)\n",
    "xmin, xmax = plt.xlim()\n",
    "ymin, ymax = plt.ylim()\n",
    "scale_factor=10\n",
    "plt.xlim(xmin * scale_factor, xmax * scale_factor)\n",
    "plt.xlabel(\"EOF modes considered\")\n",
    "plt.ylabel(\"Variability covered\")\n",
    "plt.plot(x,y)"
   ]
  },
  {
   "cell_type": "code",
   "execution_count": 26,
   "id": "opposite-theory",
   "metadata": {},
   "outputs": [
    {
     "name": "stdout",
     "output_type": "stream",
     "text": [
      "[[ -38.86114283  -38.33474747  -38.24767677  -39.04121212  -38.18332599\n",
      "   -39.07262626  -37.87131313  -38.59212121  -40.12727273  -38.63434343]\n",
      " [ -85.55452745  -83.68948387  -82.05429533  -80.6862173   -82.65528687\n",
      "   -78.92093857  -87.93080336  -87.15284391  -81.57633968  -81.7139463 ]\n",
      " [  57.09525253   59.10525253   62.06850562   63.92878788   64.62656566\n",
      "    52.57737374   63.08868687   53.87787879   55.44272727   62.89565657]\n",
      " [ 114.02525253  113.77142036  113.38396125  113.78878788  113.21656566\n",
      "   113.49737374  116.36868687  113.84787879  113.32272727  112.64565657]\n",
      " [  64.0266362    56.97525253   57.25591766   53.16531839   58.45656566\n",
      "    52.90737374   68.25868687   70.97787879   57.88272727   57.50565657]\n",
      " [ -85.55452745  -83.68948387  -82.05429533  -80.6862173   -82.65528687\n",
      "   -78.92093857  -87.93080336  -87.15284391  -81.57633968  -81.7139463 ]\n",
      " [ 190.03525253  190.08525253  189.40232323  187.16878788  187.70656566\n",
      "   189.30737374  188.89868687  189.07787879  189.80272727  190.59565657]\n",
      " [  75.31525253   75.77525253   70.90232323   71.11878788   70.10656566\n",
      "    73.55737374   72.87868687   76.34787879   74.01272727   70.16565657]\n",
      " [ -85.55452745  -83.68948387  -82.05429533  -80.6862173   -82.65528687\n",
      "   -78.92093857  -87.93080336  -87.15284391  -81.57633968  -81.7139463 ]\n",
      " [-204.76474747 -205.74474747 -208.56767677 -208.40121212 -207.95343434\n",
      "  -206.38262626 -207.29131313 -204.63212121 -206.04727273 -210.19434343]]\n"
     ]
    }
   ],
   "source": [
    "temp_matrix= cross_valid_set\n",
    "comp_considered=8\n",
    "for k in range(comp_considered):\n",
    "    while(1):\n",
    "        solver=Eof(temp_matrix)\n",
    "        pcs=solver.pcs(pcscaling=0,npcs=k+1)\n",
    "        eofs=solver.eofs(eofscaling=0,neofs=k+1)\n",
    "        x_ = np.matmul(pcs,eofs)\n",
    "        for i in range(10):\n",
    "            for j in range(10):\n",
    "                if(new_org_matrix[i][j] != 0):\n",
    "                    x_[i][j]=new_org_matrix[i][j]\n",
    "        error=x_ - temp_matrix\n",
    "        error=np.square(error)\n",
    "        var1=np.sum(error)\n",
    "        error2=np.square(x_)\n",
    "        var2=np.sum(error2)\n",
    "        temp_matrix=x_\n",
    "        #print(k+1, var1/var2)\n",
    "        #print(x_[10][35])\n",
    "        \n",
    "        if(var1/var2 < 0.000001):\n",
    "            break\n",
    "print(temp_matrix)"
   ]
  },
  {
   "cell_type": "code",
   "execution_count": 27,
   "id": "confident-transcription",
   "metadata": {},
   "outputs": [
    {
     "name": "stdout",
     "output_type": "stream",
     "text": [
      "-15.044121212121208 -15.690516564978441\n",
      "126.42140404040403 127.55757187531594\n",
      "88.3958787878788 87.19726245932044\n",
      "62.24125252525252 63.4174349081136\n",
      "116.1112525252525 114.73289054057531\n",
      "-10.85749494949497 -9.5673865963103\n",
      "63.93125252525252 58.60484694931097\n",
      "76.87506060606061 72.02159112164412\n"
     ]
    }
   ],
   "source": [
    "for i in range(len(t)):\n",
    "    if(org_matrix[t[i][0]][t[i][1]]!=0): #don't consider values which were missing in the original data set.\n",
    "        print(org_matrix[t[i][0]][t[i][1]]+l[t[i][1]] , temp_matrix[t[i][0]][t[i][1]]+l[t[i][1]])"
   ]
  },
  {
   "cell_type": "code",
   "execution_count": null,
   "id": "small-draft",
   "metadata": {},
   "outputs": [],
   "source": []
  },
  {
   "cell_type": "code",
   "execution_count": null,
   "id": "clear-brush",
   "metadata": {},
   "outputs": [],
   "source": []
  },
  {
   "cell_type": "code",
   "execution_count": null,
   "id": "fifth-superior",
   "metadata": {},
   "outputs": [],
   "source": []
  }
 ],
 "metadata": {
  "kernelspec": {
   "display_name": "Python 3",
   "language": "python",
   "name": "python3"
  },
  "language_info": {
   "codemirror_mode": {
    "name": "ipython",
    "version": 3
   },
   "file_extension": ".py",
   "mimetype": "text/x-python",
   "name": "python",
   "nbconvert_exporter": "python",
   "pygments_lexer": "ipython3",
   "version": "3.7.6"
  }
 },
 "nbformat": 4,
 "nbformat_minor": 5
}
