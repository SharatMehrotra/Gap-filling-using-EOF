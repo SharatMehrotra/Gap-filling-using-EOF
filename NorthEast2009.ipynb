{
 "cells": [
  {
   "cell_type": "markdown",
   "id": "historic-pickup",
   "metadata": {},
   "source": [
    "<h2>\n",
    "    Gap-filling on GPS data sets using iterative EOF and time series analysis\n",
    "</h2>\n",
    "    <h4>This for the NorthEast_NZ2009.csv data set.<br></h4>\n",
    "    Libraries used-<br>\n",
    "    numpy<br>\n",
    "    pandas<br>\n",
    "    os <br>\n",
    "    matplotlib <br>\n",
    "    eofs.standard <br>\n",
    "    random <br><br>\n",
    "    An iterative algorithm, EOF analysis, has been suggested the retrieve the missing values in CGPS data. Using the data, we first construct a spatial-temporal matrix. The missing values are then initialized appropriately. The method then decomposes the constructed matrix into different EOF modes. The optimum number of EOF modes are selected such that we are able to cover maximum variability in the data. The matrix is reconstructed using the number of modes calculated. An iterative update of missing values is performed, which gives the best estimate of missing data points. To verify the correctness of this method, 1-2% of the given data has been used as the cross-validation-set, to see if the missing values can be estimated correctly or not."
   ]
  },
  {
   "cell_type": "code",
   "execution_count": 20,
   "id": "dirty-hotel",
   "metadata": {},
   "outputs": [],
   "source": [
    "import numpy as np\n",
    "import pandas as pd\n",
    "import os\n",
    "import matplotlib.pyplot as plt\n",
    "from eofs.standard import Eof \n",
    "import random"
   ]
  },
  {
   "cell_type": "code",
   "execution_count": 21,
   "id": "advance-admission",
   "metadata": {},
   "outputs": [
    {
     "name": "stdout",
     "output_type": "stream",
     "text": [
      "[[  1.47  -5.35  -0.96 ...   5.57   2.61  -5.04]\n",
      " [  0.     0.     0.   ...   0.29   0.28  -5.88]\n",
      " [ -5.34   2.96  -1.21 ...  -4.83   6.35   1.54]\n",
      " ...\n",
      " [  0.     0.     0.   ... 103.89  96.31  90.32]\n",
      " [  0.     0.     0.   ...   5.31   1.7   -5.41]\n",
      " [  0.     0.     0.   ... -13.32 -14.3  -19.2 ]]\n",
      "99\n",
      "4291\n"
     ]
    }
   ],
   "source": [
    "df=pd.read_csv('NorthEast_NZ2009.csv', sep=',',header=None)       # reading the .csv files and converting to dataframe\n",
    "east_matrix = np.array(df.to_numpy())                        #convert to numpy array\n",
    "east_matrix = east_matrix.T                        # take transpose\n",
    "m = len(east_matrix)                        #rows\n",
    "n = len(east_matrix[0])                     #columns\n",
    "east_matrix = np.nan_to_num(east_matrix)    #fill NaN with 0\n",
    "org_matrix=east_matrix                        #store the current matrix as org_matrix\n",
    "print(east_matrix)\n",
    "print(m)\n",
    "print(n)"
   ]
  },
  {
   "cell_type": "code",
   "execution_count": 22,
   "id": "incredible-white",
   "metadata": {},
   "outputs": [],
   "source": [
    "l=[]\n",
    "for j in range(n):\n",
    "    sum=0.0\n",
    "    count=0\n",
    "    for i in range(m):\n",
    "        sum+=east_matrix[i][j]\n",
    "        count+=1\n",
    "    sum/=count\n",
    "    l.append(sum)\n",
    "    for i in range(m):\n",
    "        if(east_matrix[i][j]!=0):\n",
    "            east_matrix[i][j]-=sum"
   ]
  },
  {
   "cell_type": "code",
   "execution_count": 23,
   "id": "personalized-destruction",
   "metadata": {},
   "outputs": [
    {
     "name": "stdout",
     "output_type": "stream",
     "text": [
      "[[  1.99895176   1.84545488   2.37034584 ... -14.8750036  -18.1471274\n",
      "  -17.18970071]\n",
      " [  1.63121363   1.96742441   2.44530865 ... -16.00908848 -16.01687701\n",
      "  -15.89751743]\n",
      " [  2.92940216   7.97051495   5.06703735 ... -13.42900833 -13.48200163\n",
      "  -10.99701676]\n",
      " ...\n",
      " [  4.0244773    4.58334715   2.44013813 ...  86.02534593  82.06967177\n",
      "   80.65130968]\n",
      " [  3.38115953   4.2020973    3.53658785 ... -11.52344425 -13.49892726\n",
      "  -13.3571793 ]\n",
      " [  3.50377415   2.55169855   3.00587158 ... -30.27037236 -27.5445624\n",
      "  -28.20781796]]\n"
     ]
    }
   ],
   "source": [
    "\"\"\"\n",
    "Example of reconstructing the matrix using 20 components\n",
    "\"\"\"\n",
    "solver = Eof(east_matrix) \n",
    "components=20\n",
    "pcs=solver.pcs(pcscaling = 0 , npcs=components)\n",
    "eofs=solver.eofs(eofscaling = 0, neofs=components)\n",
    "new_matrix = np.matmul(pcs,eofs)  \n",
    "print(new_matrix)"
   ]
  },
  {
   "cell_type": "code",
   "execution_count": 24,
   "id": "dedicated-transition",
   "metadata": {},
   "outputs": [],
   "source": [
    "eigenvalues =  solver.varianceFraction()\n",
    "eigenvalue1 = solver.varianceFraction(neigs=99)"
   ]
  },
  {
   "cell_type": "code",
   "execution_count": 25,
   "id": "blond-walker",
   "metadata": {},
   "outputs": [
    {
     "name": "stdout",
     "output_type": "stream",
     "text": [
      "(99,)\n"
     ]
    }
   ],
   "source": [
    "print(eigenvalue1.shape) #shape of numpy array for 99 components"
   ]
  },
  {
   "cell_type": "code",
   "execution_count": 26,
   "id": "informational-interface",
   "metadata": {},
   "outputs": [
    {
     "name": "stdout",
     "output_type": "stream",
     "text": [
      "1.0\n"
     ]
    }
   ],
   "source": [
    "sum=0.0\n",
    "for i in range(len(eigenvalue1)):\n",
    "    sum+=eigenvalue1[i]\n",
    "print(sum)   #total variance- will be 1.00"
   ]
  },
  {
   "cell_type": "code",
   "execution_count": 27,
   "id": "infectious-petersburg",
   "metadata": {},
   "outputs": [
    {
     "name": "stdout",
     "output_type": "stream",
     "text": [
      "[9.7939e+01 7.9600e-01 2.0200e-01 1.2800e-01 8.0000e-02 7.4000e-02\n",
      " 6.6000e-02 6.0000e-02 5.0000e-02 3.9000e-02 3.6000e-02 3.2000e-02\n",
      " 2.9000e-02 2.6000e-02 2.4000e-02 2.3000e-02 1.9000e-02 1.8000e-02\n",
      " 1.6000e-02 1.5000e-02 1.3000e-02 1.3000e-02 1.2000e-02 1.2000e-02\n",
      " 1.1000e-02 1.0000e-02 1.0000e-02 9.0000e-03 9.0000e-03 9.0000e-03\n",
      " 8.0000e-03 8.0000e-03 8.0000e-03 7.0000e-03 7.0000e-03 7.0000e-03\n",
      " 7.0000e-03 6.0000e-03 6.0000e-03 6.0000e-03 6.0000e-03 5.0000e-03\n",
      " 5.0000e-03 5.0000e-03 5.0000e-03 5.0000e-03 5.0000e-03 4.0000e-03\n",
      " 4.0000e-03 4.0000e-03 4.0000e-03 4.0000e-03 4.0000e-03 4.0000e-03\n",
      " 3.0000e-03 3.0000e-03 3.0000e-03 3.0000e-03 3.0000e-03 3.0000e-03\n",
      " 3.0000e-03 3.0000e-03 3.0000e-03 3.0000e-03 3.0000e-03 3.0000e-03\n",
      " 3.0000e-03 2.0000e-03 2.0000e-03 2.0000e-03 2.0000e-03 2.0000e-03\n",
      " 2.0000e-03 2.0000e-03 2.0000e-03 2.0000e-03 2.0000e-03 2.0000e-03\n",
      " 2.0000e-03 2.0000e-03 2.0000e-03 2.0000e-03 2.0000e-03 2.0000e-03\n",
      " 2.0000e-03 2.0000e-03 2.0000e-03 1.0000e-03 1.0000e-03 1.0000e-03\n",
      " 1.0000e-03 1.0000e-03 1.0000e-03 0.0000e+00 0.0000e+00 0.0000e+00\n",
      " 0.0000e+00 0.0000e+00 0.0000e+00]\n"
     ]
    }
   ],
   "source": [
    "\"\"\"\n",
    "finding the % of variance explained by each component \n",
    "\"\"\"\n",
    "for i in range(len(eigenvalue1)):  \n",
    "    eigenvalue1[i]*=100\n",
    "    eigenvalue1[i]/=sum\n",
    "x=np.round(eigenvalue1,decimals=3)\n",
    "print(x) # 10 components seems to be enough to cover the variance"
   ]
  },
  {
   "cell_type": "code",
   "execution_count": null,
   "id": "satisfied-wisconsin",
   "metadata": {},
   "outputs": [],
   "source": []
  },
  {
   "cell_type": "code",
   "execution_count": 28,
   "id": "traditional-dutch",
   "metadata": {},
   "outputs": [
    {
     "name": "stdout",
     "output_type": "stream",
     "text": [
      "5.011366517683724\n"
     ]
    },
    {
     "data": {
      "image/png": "[encoded data removed]",
      "text/plain": [
       "<Figure size 432x288 with 1 Axes>"
      ]
     },
     "metadata": {
      "needs_background": "light"
     },
     "output_type": "display_data"
    }
   ],
   "source": [
    "\"\"\"\n",
    "plotting the RMSE error vs the number of EOF modes considered\n",
    "\"\"\"\n",
    "x_components=[]\n",
    "y_error=[]\n",
    "for k in range(99):\n",
    "    totalerror=0.0\n",
    "    pcs=solver.pcs(pcscaling = 0 , npcs=k+1)\n",
    "    eofs=solver.eofs(eofscaling = 0, neofs=k+1)\n",
    "    new_matrix = np.matmul(pcs,eofs)  \n",
    "    for i in range(m):\n",
    "        for j in range(n):\n",
    "            totalerror+=(east_matrix[i][j]-new_matrix[i][j])**2\n",
    "    x_components.append(k+1)\n",
    "    y_error.append((totalerror/(m*n))**0.5)\n",
    "plt.xlabel(\"EOF modes considered\")\n",
    "plt.ylabel(\"RMSE error\")\n",
    "plt.plot(x_components,y_error)\n",
    "print(y_error[11])            #error for 12 components"
   ]
  },
  {
   "cell_type": "code",
   "execution_count": 29,
   "id": "loved-trace",
   "metadata": {},
   "outputs": [
    {
     "data": {
      "text/plain": [
       "[<matplotlib.lines.Line2D at 0x7f221546d450>]"
      ]
     },
     "execution_count": 29,
     "metadata": {},
     "output_type": "execute_result"
    },
    {
     "data": {
      "image/png": "[encoded data removed]",
      "text/plain": [
       "<Figure size 432x288 with 1 Axes>"
      ]
     },
     "metadata": {
      "needs_background": "light"
     },
     "output_type": "display_data"
    }
   ],
   "source": [
    "\"\"\"\n",
    "plotting the variance expressed vs the no. of EOF modes considered\n",
    "\"\"\"\n",
    "variance_covered=0.0\n",
    "y=[]\n",
    "x=[]\n",
    "for i in range(99):\n",
    "    variance_covered+=eigenvalue1[i]\n",
    "    y.append(variance_covered)\n",
    "    x.append(i)\n",
    "xmin, xmax = plt.xlim()\n",
    "ymin, ymax = plt.ylim()\n",
    "scale_factor=100\n",
    "plt.xlim(xmin * scale_factor, xmax * scale_factor)\n",
    "plt.xlabel(\"EOF modes considered\")\n",
    "plt.ylabel(\"Variability covered\")\n",
    "plt.plot(x,y)\n",
    "#plot of variance covered v/s the number of components taken. we see graph flats out at approx 10-15 components.\n",
    "#so we'll fix number of components to 12"
   ]
  },
  {
   "cell_type": "code",
   "execution_count": 30,
   "id": "tight-recognition",
   "metadata": {},
   "outputs": [
    {
     "name": "stdout",
     "output_type": "stream",
     "text": [
      "[[  4.47171717  -2.85212121   4.41575758 ...  -8.94040404 -12.50494949\n",
      "  -15.55424242]\n",
      " [  0.           0.           0.         ... -14.22040404 -14.83494949\n",
      "  -16.39424242]\n",
      " [ -2.33828283   5.45787879   4.16575758 ... -19.34040404  -8.76494949\n",
      "   -8.97424242]\n",
      " ...\n",
      " [  0.           0.           0.         ...  89.37959596  81.19505051\n",
      "   79.80575758]\n",
      " [  0.           0.           0.         ...  -9.20040404 -13.41494949\n",
      "  -15.92424242]\n",
      " [  0.           0.           0.         ... -27.83040404 -29.41494949\n",
      "  -29.71424242]]\n"
     ]
    }
   ],
   "source": [
    "print(east_matrix)"
   ]
  },
  {
   "cell_type": "code",
   "execution_count": 31,
   "id": "conditional-profession",
   "metadata": {},
   "outputs": [
    {
     "name": "stdout",
     "output_type": "stream",
     "text": [
      "1 0.0010663496379990076\n",
      "1 0.0001493171633075267\n",
      "1 6.357768430764773e-05\n",
      "1 3.057676755761709e-05\n",
      "1 1.549421126004426e-05\n",
      "1 8.088747059604724e-06\n",
      "2 0.0004606029493463647\n",
      "2 8.641863720987417e-05\n",
      "2 3.1232058046972606e-05\n",
      "2 1.4854504253797496e-05\n",
      "2 8.316280199879473e-06\n",
      "3 6.566528757440388e-05\n",
      "3 1.9484534716115626e-05\n",
      "3 1.1031203848839501e-05\n",
      "3 7.178293415916516e-06\n",
      "4 4.586858384101246e-05\n",
      "4 1.5131377420306396e-05\n",
      "4 8.641015071637468e-06\n",
      "5 2.2716042713245397e-05\n",
      "5 6.815919362973291e-06\n",
      "6 1.673830176967122e-05\n",
      "6 6.03922005456579e-06\n",
      "7 1.5613591952370606e-05\n",
      "7 7.858010498317845e-06\n",
      "8 2.885877705227482e-05\n",
      "8 1.378517634124329e-05\n",
      "8 8.576228967175946e-06\n",
      "9 3.127310819801302e-05\n",
      "9 1.459679125946143e-05\n",
      "9 8.521329935888142e-06\n",
      "10 1.662519641908719e-05\n",
      "10 1.0261129866952387e-05\n",
      "10 7.124899795453686e-06\n",
      "11 1.0193680194162512e-05\n",
      "11 6.811708446007754e-06\n",
      "12 1.2648438239015118e-05\n",
      "12 8.07698804083699e-06\n",
      "13 1.2987183647838935e-05\n",
      "13 9.103454788091222e-06\n",
      "14 1.3558153333206581e-05\n",
      "14 8.573476626601872e-06\n",
      "15 1.2371925305366524e-05\n",
      "15 7.733044428714912e-06\n",
      "16 7.834702445891417e-06\n",
      "17 7.87241980978141e-06\n",
      "18 7.205700628378971e-06\n",
      "19 7.576861236661955e-06\n",
      "20 6.783449896567695e-06\n",
      "21 6.9736118033686645e-06\n",
      "22 5.846722511941915e-06\n",
      "23 5.550783852439467e-06\n",
      "24 5.661609348306675e-06\n",
      "25 5.054843154738293e-06\n",
      "26 5.426894835009568e-06\n",
      "27 4.539973136783445e-06\n",
      "28 4.925136032885736e-06\n",
      "29 4.589871343969381e-06\n",
      "30 4.0384753377097265e-06\n",
      "31 4.109121265332459e-06\n",
      "32 3.961147161368578e-06\n",
      "33 4.746006198659103e-06\n",
      "34 5.021617318533083e-06\n",
      "35 3.875410980849629e-06\n",
      "36 3.9945386234039835e-06\n",
      "37 3.796908925417713e-06\n",
      "38 3.805007993176089e-06\n",
      "39 3.1956499142090917e-06\n",
      "40 3.360235250832048e-06\n",
      "[[  4.47171717  -2.85212121   4.41575758 ...  -8.94040404 -12.50494949\n",
      "  -15.55424242]\n",
      " [ 13.25653922  12.77307116  17.99286399 ... -14.22040404 -14.83494949\n",
      "  -16.39424242]\n",
      " [ -2.33828283   5.45787879   4.16575758 ... -19.34040404  -8.76494949\n",
      "   -8.97424242]\n",
      " ...\n",
      " [-33.3201397  -30.05113381 -36.50028968 ...  89.37959596  81.19505051\n",
      "   79.80575758]\n",
      " [ 12.844366    21.85359076   7.96114048 ...  -9.20040404 -13.41494949\n",
      "  -15.92424242]\n",
      " [  8.63719833  13.13746028   4.9513243  ... -27.83040404 -29.41494949\n",
      "  -29.71424242]]\n"
     ]
    }
   ],
   "source": [
    "\"\"\"\n",
    "Refining the matrix obtained after reconstructing with 12 EOF modes.\n",
    "beta value (value for convergence) has been set to 1e-6. \n",
    "You can decrease it if you want a more refined value\n",
    "\"\"\"\n",
    "temp_matrix=org_matrix\n",
    "comp_considered=40\n",
    "for k in range(comp_considered):\n",
    "    while(1):\n",
    "        solver=Eof(temp_matrix)\n",
    "        pcs=solver.pcs(pcscaling=0,npcs=k+1)\n",
    "        eofs=solver.eofs(eofscaling=0,neofs=k+1)\n",
    "        x_ = np.matmul(pcs,eofs)\n",
    "        for i in range(m):\n",
    "            for j in range(n):\n",
    "                if(org_matrix[i][j] != 0):\n",
    "                    x_[i][j]=org_matrix[i][j]\n",
    "        error=x_ - temp_matrix\n",
    "        error=np.square(error)\n",
    "        var1=np.sum(error)\n",
    "        error2=np.square(x_)\n",
    "        var2=np.sum(error2)\n",
    "        temp_matrix=x_\n",
    "        print(k+1, var1/var2)\n",
    "        if(var1/var2 < 0.00001):\n",
    "            break\n",
    "print(temp_matrix)"
   ]
  },
  {
   "cell_type": "code",
   "execution_count": 32,
   "id": "inside-bachelor",
   "metadata": {},
   "outputs": [
    {
     "name": "stdout",
     "output_type": "stream",
     "text": [
      "[[  4.47171717  -2.85212121   4.41575758 ...  -8.94040404 -12.50494949\n",
      "  -15.55424242]\n",
      " [  0.           0.           0.         ... -14.22040404 -14.83494949\n",
      "  -16.39424242]\n",
      " [ -2.33828283   5.45787879   4.16575758 ... -19.34040404  -8.76494949\n",
      "   -8.97424242]\n",
      " ...\n",
      " [  0.           0.           0.         ...  89.37959596  81.19505051\n",
      "   79.80575758]\n",
      " [  0.           0.           0.         ...  -9.20040404 -13.41494949\n",
      "  -15.92424242]\n",
      " [  0.           0.           0.         ... -27.83040404 -29.41494949\n",
      "  -29.71424242]]\n"
     ]
    }
   ],
   "source": [
    "print(org_matrix)"
   ]
  },
  {
   "cell_type": "code",
   "execution_count": 33,
   "id": "standing-solution",
   "metadata": {},
   "outputs": [
    {
     "name": "stdout",
     "output_type": "stream",
     "text": [
      "[[  1.47        -5.35        -0.96       ...   5.57         2.61\n",
      "   -5.04      ]\n",
      " [ 10.25482205  10.27519238  12.61710641 ...   0.29         0.28\n",
      "   -5.88      ]\n",
      " [ -5.34         2.96        -1.21       ...  -4.83         6.35\n",
      "    1.54      ]\n",
      " ...\n",
      " [-36.32185688 -32.5490126  -41.87604725 ... 103.89        96.31\n",
      "   90.32      ]\n",
      " [  9.84264883  19.35571197   2.5853829  ...   5.31         1.7\n",
      "   -5.41      ]\n",
      " [  5.63548116  10.63958149  -0.42443327 ... -13.32       -14.3\n",
      "  -19.2       ]]\n"
     ]
    }
   ],
   "source": [
    "for i in range(m):\n",
    "    for j in range(n):\n",
    "        temp_matrix[i][j]+=l[j]\n",
    "print(temp_matrix) #reconstructed and refined dataset after applying iterative EOF analysis"
   ]
  },
  {
   "cell_type": "code",
   "execution_count": 34,
   "id": "nutritional-president",
   "metadata": {},
   "outputs": [
    {
     "name": "stdout",
     "output_type": "stream",
     "text": [
      "15.3607386208053\n"
     ]
    }
   ],
   "source": [
    "print(temp_matrix[5][10])"
   ]
  },
  {
   "cell_type": "code",
   "execution_count": null,
   "id": "detailed-hours",
   "metadata": {},
   "outputs": [],
   "source": []
  }
 ],
 "metadata": {
  "kernelspec": {
   "display_name": "Python 3",
   "language": "python",
   "name": "python3"
  },
  "language_info": {
   "codemirror_mode": {
    "name": "ipython",
    "version": 3
   },
   "file_extension": ".py",
   "mimetype": "text/x-python",
   "name": "python",
   "nbconvert_exporter": "python",
   "pygments_lexer": "ipython3",
   "version": "3.7.6"
  }
 },
 "nbformat": 4,
 "nbformat_minor": 5
}
