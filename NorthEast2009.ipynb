{
 "cells": [
  {
   "cell_type": "markdown",
   "id": "historic-pickup",
   "metadata": {},
   "source": [
    "<h2>\n",
    "    Gap-filling on GPS data sets using iterative EOF and time series analysis\n",
    "</h2>\n",
    "    <h4>This for the NorthEast_NZ2009.csv data set.<br></h4>\n",
    "    Libraries used-<br>\n",
    "    numpy<br>\n",
    "    pandas<br>\n",
    "    os <br>\n",
    "    matplotlib <br>\n",
    "    eofs.standard <br>\n",
    "    random <br><br>\n",
    "    An iterative algorithm, EOF analysis, has been suggested the retrieve the missing values in CGPS data. Using the data, we first construct a spatial-temporal matrix. The missing values are then initialized appropriately. The method then decomposes the constructed matrix into different EOF modes. The optimum number of EOF modes are selected such that we are able to cover maximum variability in the data. The matrix is reconstructed using the number of modes calculated. An iterative update of missing values is performed, which gives the best estimate of missing data points. To verify the correctness of this method, 1-2% of the given data has been used as the cross-validation-set, to see if the missing values can be estimated correctly or not."
   ]
  },
  {
   "cell_type": "code",
   "execution_count": 21,
   "id": "dirty-hotel",
   "metadata": {},
   "outputs": [],
   "source": [
    "import numpy as np\n",
    "import pandas as pd\n",
    "import os\n",
    "import matplotlib.pyplot as plt\n",
    "from eofs.standard import Eof \n",
    "import random\n",
    "import time"
   ]
  },
  {
   "cell_type": "code",
   "execution_count": 22,
   "id": "advance-admission",
   "metadata": {},
   "outputs": [
    {
     "name": "stdout",
     "output_type": "stream",
     "text": [
      "[[  1.47  -5.35  -0.96 ...   5.57   2.61  -5.04]\n",
      " [  0.     0.     0.   ...   0.29   0.28  -5.88]\n",
      " [ -5.34   2.96  -1.21 ...  -4.83   6.35   1.54]\n",
      " ...\n",
      " [  0.     0.     0.   ... 103.89  96.31  90.32]\n",
      " [  0.     0.     0.   ...   5.31   1.7   -5.41]\n",
      " [  0.     0.     0.   ... -13.32 -14.3  -19.2 ]]\n",
      "99\n",
      "4291\n"
     ]
    }
   ],
   "source": [
    "df=pd.read_csv('NorthEast_NZ2009.csv', sep=',',header=None)       # reading the .csv files and converting to dataframe\n",
    "east_matrix = np.array(df.to_numpy())                        #convert to numpy array\n",
    "east_matrix = east_matrix.T                        # take transpose\n",
    "m = len(east_matrix)                        #rows\n",
    "n = len(east_matrix[0])                     #columns\n",
    "east_matrix = np.nan_to_num(east_matrix)    #fill NaN with 0\n",
    "org_matrix=east_matrix                        #store the current matrix as org_matrix\n",
    "print(east_matrix)\n",
    "print(m)\n",
    "print(n)"
   ]
  },
  {
   "cell_type": "code",
   "execution_count": 23,
   "id": "incredible-white",
   "metadata": {},
   "outputs": [],
   "source": [
    "l=[]\n",
    "for j in range(n):\n",
    "    sum=0.0\n",
    "    count=0\n",
    "    for i in range(m):\n",
    "        sum+=east_matrix[i][j]\n",
    "        count+=1\n",
    "    sum/=count\n",
    "    l.append(sum)\n",
    "    for i in range(m):\n",
    "        if(east_matrix[i][j]!=0):\n",
    "            east_matrix[i][j]-=sum"
   ]
  },
  {
   "cell_type": "code",
   "execution_count": 24,
   "id": "personalized-destruction",
   "metadata": {},
   "outputs": [
    {
     "name": "stdout",
     "output_type": "stream",
     "text": [
      "[[  1.99895176   1.84545488   2.37034584 ... -14.8750036  -18.1471274\n",
      "  -17.18970071]\n",
      " [  1.63121363   1.96742441   2.44530865 ... -16.00908848 -16.01687701\n",
      "  -15.89751743]\n",
      " [  2.92940216   7.97051495   5.06703735 ... -13.42900833 -13.48200163\n",
      "  -10.99701676]\n",
      " ...\n",
      " [  4.0244773    4.58334715   2.44013813 ...  86.02534593  82.06967177\n",
      "   80.65130968]\n",
      " [  3.38115953   4.2020973    3.53658785 ... -11.52344425 -13.49892726\n",
      "  -13.3571793 ]\n",
      " [  3.50377415   2.55169855   3.00587158 ... -30.27037236 -27.5445624\n",
      "  -28.20781796]]\n"
     ]
    }
   ],
   "source": [
    "\"\"\"\n",
    "Example of reconstructing the matrix using 20 components\n",
    "\"\"\"\n",
    "solver = Eof(east_matrix) \n",
    "components=20\n",
    "pcs=solver.pcs(pcscaling = 0 , npcs=components)\n",
    "eofs=solver.eofs(eofscaling = 0, neofs=components)\n",
    "new_matrix = np.matmul(pcs,eofs)  \n",
    "print(new_matrix)"
   ]
  },
  {
   "cell_type": "code",
   "execution_count": 25,
   "id": "dedicated-transition",
   "metadata": {},
   "outputs": [],
   "source": [
    "eigenvalues =  solver.varianceFraction()\n",
    "eigenvalue1 = solver.varianceFraction(neigs=99)"
   ]
  },
  {
   "cell_type": "code",
   "execution_count": 26,
   "id": "blond-walker",
   "metadata": {},
   "outputs": [
    {
     "name": "stdout",
     "output_type": "stream",
     "text": [
      "(99,)\n"
     ]
    }
   ],
   "source": [
    "print(eigenvalue1.shape) #shape of numpy array for 99 components"
   ]
  },
  {
   "cell_type": "code",
   "execution_count": 27,
   "id": "informational-interface",
   "metadata": {},
   "outputs": [
    {
     "name": "stdout",
     "output_type": "stream",
     "text": [
      "1.0\n"
     ]
    }
   ],
   "source": [
    "sum=0.0\n",
    "for i in range(len(eigenvalue1)):\n",
    "    sum+=eigenvalue1[i]\n",
    "print(sum)   #total variance- will be 1.00"
   ]
  },
  {
   "cell_type": "code",
   "execution_count": 28,
   "id": "infectious-petersburg",
   "metadata": {},
   "outputs": [
    {
     "name": "stdout",
     "output_type": "stream",
     "text": [
      "[9.7939e+01 7.9600e-01 2.0200e-01 1.2800e-01 8.0000e-02 7.4000e-02\n",
      " 6.6000e-02 6.0000e-02 5.0000e-02 3.9000e-02 3.6000e-02 3.2000e-02\n",
      " 2.9000e-02 2.6000e-02 2.4000e-02 2.3000e-02 1.9000e-02 1.8000e-02\n",
      " 1.6000e-02 1.5000e-02 1.3000e-02 1.3000e-02 1.2000e-02 1.2000e-02\n",
      " 1.1000e-02 1.0000e-02 1.0000e-02 9.0000e-03 9.0000e-03 9.0000e-03\n",
      " 8.0000e-03 8.0000e-03 8.0000e-03 7.0000e-03 7.0000e-03 7.0000e-03\n",
      " 7.0000e-03 6.0000e-03 6.0000e-03 6.0000e-03 6.0000e-03 5.0000e-03\n",
      " 5.0000e-03 5.0000e-03 5.0000e-03 5.0000e-03 5.0000e-03 4.0000e-03\n",
      " 4.0000e-03 4.0000e-03 4.0000e-03 4.0000e-03 4.0000e-03 4.0000e-03\n",
      " 3.0000e-03 3.0000e-03 3.0000e-03 3.0000e-03 3.0000e-03 3.0000e-03\n",
      " 3.0000e-03 3.0000e-03 3.0000e-03 3.0000e-03 3.0000e-03 3.0000e-03\n",
      " 3.0000e-03 2.0000e-03 2.0000e-03 2.0000e-03 2.0000e-03 2.0000e-03\n",
      " 2.0000e-03 2.0000e-03 2.0000e-03 2.0000e-03 2.0000e-03 2.0000e-03\n",
      " 2.0000e-03 2.0000e-03 2.0000e-03 2.0000e-03 2.0000e-03 2.0000e-03\n",
      " 2.0000e-03 2.0000e-03 2.0000e-03 1.0000e-03 1.0000e-03 1.0000e-03\n",
      " 1.0000e-03 1.0000e-03 1.0000e-03 0.0000e+00 0.0000e+00 0.0000e+00\n",
      " 0.0000e+00 0.0000e+00 0.0000e+00]\n"
     ]
    }
   ],
   "source": [
    "\"\"\"\n",
    "finding the % of variance explained by each component \n",
    "\"\"\"\n",
    "for i in range(len(eigenvalue1)):  \n",
    "    eigenvalue1[i]*=100\n",
    "    eigenvalue1[i]/=sum\n",
    "x=np.round(eigenvalue1,decimals=3)\n",
    "print(x) # 10 components seems to be enough to cover the variance"
   ]
  },
  {
   "cell_type": "code",
   "execution_count": null,
   "id": "satisfied-wisconsin",
   "metadata": {},
   "outputs": [],
   "source": []
  },
  {
   "cell_type": "code",
   "execution_count": 29,
   "id": "traditional-dutch",
   "metadata": {},
   "outputs": [
    {
     "name": "stdout",
     "output_type": "stream",
     "text": [
      "5.011366517683724\n"
     ]
    },
    {
     "data": {
      "image/png": "[encoded data removed]",
      "text/plain": [
       "<Figure size 432x288 with 1 Axes>"
      ]
     },
     "metadata": {
      "needs_background": "light"
     },
     "output_type": "display_data"
    }
   ],
   "source": [
    "\"\"\"\n",
    "plotting the RMSE error vs the number of EOF modes considered\n",
    "\"\"\"\n",
    "x_components=[]\n",
    "y_error=[]\n",
    "for k in range(99):\n",
    "    totalerror=0.0\n",
    "    pcs=solver.pcs(pcscaling = 0 , npcs=k+1)\n",
    "    eofs=solver.eofs(eofscaling = 0, neofs=k+1)\n",
    "    new_matrix = np.matmul(pcs,eofs)  \n",
    "    for i in range(m):\n",
    "        for j in range(n):\n",
    "            totalerror+=(east_matrix[i][j]-new_matrix[i][j])**2\n",
    "    x_components.append(k+1)\n",
    "    y_error.append((totalerror/(m*n))**0.5)\n",
    "plt.xlabel(\"EOF modes considered\")\n",
    "plt.ylabel(\"RMSE error\")\n",
    "plt.plot(x_components,y_error)\n",
    "print(y_error[11])            #error for 12 components"
   ]
  },
  {
   "cell_type": "code",
   "execution_count": 30,
   "id": "loved-trace",
   "metadata": {},
   "outputs": [
    {
     "data": {
      "text/plain": [
       "[<matplotlib.lines.Line2D at 0x7f56f105a1d0>]"
      ]
     },
     "execution_count": 30,
     "metadata": {},
     "output_type": "execute_result"
    },
    {
     "data": {
      "image/png": "[encoded data removed]",
      "text/plain": [
       "<Figure size 432x288 with 1 Axes>"
      ]
     },
     "metadata": {
      "needs_background": "light"
     },
     "output_type": "display_data"
    }
   ],
   "source": [
    "\"\"\"\n",
    "plotting the variance expressed vs the no. of EOF modes considered\n",
    "\"\"\"\n",
    "variance_covered=0.0\n",
    "y=[]\n",
    "x=[]\n",
    "for i in range(99):\n",
    "    variance_covered+=eigenvalue1[i]\n",
    "    y.append(variance_covered)\n",
    "    x.append(i)\n",
    "xmin, xmax = plt.xlim()\n",
    "ymin, ymax = plt.ylim()\n",
    "scale_factor=100\n",
    "plt.xlim(xmin * scale_factor, xmax * scale_factor)\n",
    "plt.xlabel(\"EOF modes considered\")\n",
    "plt.ylabel(\"Variability covered\")\n",
    "plt.plot(x,y)\n",
    "#plot of variance covered v/s the number of components taken. we see graph flats out at approx 10-15 components.\n",
    "#so we'll fix number of components to 12"
   ]
  },
  {
   "cell_type": "code",
   "execution_count": 31,
   "id": "tight-recognition",
   "metadata": {},
   "outputs": [
    {
     "name": "stdout",
     "output_type": "stream",
     "text": [
      "[[  4.47171717  -2.85212121   4.41575758 ...  -8.94040404 -12.50494949\n",
      "  -15.55424242]\n",
      " [  0.           0.           0.         ... -14.22040404 -14.83494949\n",
      "  -16.39424242]\n",
      " [ -2.33828283   5.45787879   4.16575758 ... -19.34040404  -8.76494949\n",
      "   -8.97424242]\n",
      " ...\n",
      " [  0.           0.           0.         ...  89.37959596  81.19505051\n",
      "   79.80575758]\n",
      " [  0.           0.           0.         ...  -9.20040404 -13.41494949\n",
      "  -15.92424242]\n",
      " [  0.           0.           0.         ... -27.83040404 -29.41494949\n",
      "  -29.71424242]]\n"
     ]
    }
   ],
   "source": [
    "print(east_matrix)"
   ]
  },
  {
   "cell_type": "code",
   "execution_count": 32,
   "id": "conditional-profession",
   "metadata": {},
   "outputs": [
    {
     "name": "stdout",
     "output_type": "stream",
     "text": [
      "1 0.0010663496379990076\n",
      "1 0.0001493171633075267\n",
      "1 6.357768430764773e-05\n",
      "1 3.057676755761709e-05\n",
      "1 1.549421126004426e-05\n",
      "1 8.088747059604724e-06\n",
      "2 0.0004606029493463647\n",
      "2 8.641863720987417e-05\n",
      "2 3.1232058046972606e-05\n",
      "2 1.4854504253797496e-05\n",
      "2 8.316280199879473e-06\n",
      "3 6.566528757440388e-05\n",
      "3 1.9484534716115626e-05\n",
      "3 1.1031203848839501e-05\n",
      "3 7.178293415916516e-06\n",
      "4 4.586858384101246e-05\n",
      "4 1.5131377420306396e-05\n",
      "4 8.641015071637468e-06\n",
      "5 2.2716042713245397e-05\n",
      "5 6.815919362973291e-06\n",
      "6 1.673830176967122e-05\n",
      "6 6.03922005456579e-06\n",
      "7 1.5613591952370606e-05\n",
      "7 7.858010498317845e-06\n",
      "8 2.885877705227482e-05\n",
      "8 1.378517634124329e-05\n",
      "8 8.576228967175946e-06\n",
      "9 3.127310819801302e-05\n",
      "9 1.459679125946143e-05\n",
      "9 8.521329935888142e-06\n",
      "10 1.662519641908719e-05\n",
      "10 1.0261129866952387e-05\n",
      "10 7.124899795453686e-06\n",
      "11 1.0193680194162512e-05\n",
      "11 6.811708446007754e-06\n",
      "12 1.2648438239015118e-05\n",
      "12 8.07698804083699e-06\n",
      "13 1.2987183647838935e-05\n",
      "13 9.103454788091222e-06\n",
      "14 1.3558153333206581e-05\n",
      "14 8.573476626601872e-06\n",
      "15 1.2371925305366524e-05\n",
      "15 7.733044428714912e-06\n",
      "16 7.834702445891417e-06\n",
      "17 7.87241980978141e-06\n",
      "18 7.205700628378971e-06\n",
      "19 7.576861236661955e-06\n",
      "20 6.783449896567695e-06\n",
      "21 6.9736118033686645e-06\n",
      "22 5.846722511941915e-06\n",
      "23 5.550783852439467e-06\n",
      "24 5.661609348306675e-06\n",
      "25 5.054843154738293e-06\n",
      "26 5.426894835009568e-06\n",
      "27 4.539973136783445e-06\n",
      "28 4.925136032885736e-06\n",
      "29 4.589871343969381e-06\n",
      "30 4.0384753377097265e-06\n",
      "31 4.109121265332459e-06\n",
      "32 3.961147161368578e-06\n",
      "33 4.746006198659103e-06\n",
      "34 5.021617318533083e-06\n",
      "35 3.875410980849629e-06\n",
      "36 3.9945386234039835e-06\n",
      "37 3.796908925417713e-06\n",
      "38 3.805007993176089e-06\n",
      "39 3.1956499142090917e-06\n",
      "40 3.360235250832048e-06\n",
      "41 3.150342086405626e-06\n",
      "42 3.5134123034805044e-06\n",
      "43 3.2756003554053545e-06\n",
      "44 2.7680908584654627e-06\n",
      "45 2.610554846907541e-06\n",
      "46 2.145460530699542e-06\n",
      "47 2.132144281374641e-06\n",
      "48 2.228694256507779e-06\n",
      "49 2.103803885412033e-06\n",
      "50 2.0905742400457738e-06\n",
      "51 2.1732349327808643e-06\n",
      "52 2.01737664527877e-06\n",
      "53 2.1699948977406956e-06\n",
      "54 1.9754004215401223e-06\n",
      "55 1.8690998913869945e-06\n",
      "56 1.7007653108505143e-06\n",
      "57 1.926381873611896e-06\n",
      "58 1.8648242786723312e-06\n",
      "59 1.6174864249062537e-06\n",
      "60 1.5547676530467217e-06\n",
      "61 1.5124435767185395e-06\n",
      "62 1.591475141816362e-06\n",
      "63 1.5841441784774377e-06\n",
      "64 1.4042172553421294e-06\n",
      "65 1.327197106598637e-06\n",
      "66 1.2297621947318364e-06\n",
      "67 1.2096037368230757e-06\n",
      "68 1.155248015713393e-06\n",
      "69 1.2455164715268487e-06\n",
      "70 1.1397647352896545e-06\n",
      "71 1.1700740840481136e-06\n",
      "72 1.084494609408258e-06\n",
      "73 1.0359687984333224e-06\n",
      "74 1.0207941569626777e-06\n",
      "75 1.0146814399107863e-06\n",
      "76 1.0500533712334773e-06\n",
      "77 9.807653807975298e-07\n",
      "78 9.299290991892861e-07\n",
      "79 9.891677237358534e-07\n",
      "80 9.037927735557753e-07\n",
      "[[  4.47171717  -2.85212121   4.41575758 ...  -8.94040404 -12.50494949\n",
      "  -15.55424242]\n",
      " [ 23.05303143   7.56003517  21.61319536 ... -14.22040404 -14.83494949\n",
      "  -16.39424242]\n",
      " [ -2.33828283   5.45787879   4.16575758 ... -19.34040404  -8.76494949\n",
      "   -8.97424242]\n",
      " ...\n",
      " [-52.68130582 -31.20808562 -34.60046348 ...  89.37959596  81.19505051\n",
      "   79.80575758]\n",
      " [ 10.36238926  31.08983653   2.12863766 ...  -9.20040404 -13.41494949\n",
      "  -15.92424242]\n",
      " [  7.48457548   6.88646361   1.00546944 ... -27.83040404 -29.41494949\n",
      "  -29.71424242]]\n"
     ]
    }
   ],
   "source": [
    "\"\"\"\n",
    "Refining the matrix obtained after reconstructing with 12 EOF modes.\n",
    "beta value (value for convergence) has been set to 1e-6. \n",
    "You can decrease it if you want a more refined value\n",
    "\"\"\"\n",
    "temp_matrix=org_matrix\n",
    "comp_considered=80\n",
    "start=time.time()\n",
    "for k in range(comp_considered):\n",
    "    while(1):\n",
    "        solver=Eof(temp_matrix)\n",
    "        pcs=solver.pcs(pcscaling=0,npcs=k+1)\n",
    "        eofs=solver.eofs(eofscaling=0,neofs=k+1)\n",
    "        x_ = np.matmul(pcs,eofs)\n",
    "        for i in range(m):\n",
    "            for j in range(n):\n",
    "                if(org_matrix[i][j] != 0):\n",
    "                    x_[i][j]=org_matrix[i][j]\n",
    "        error=x_ - temp_matrix\n",
    "        error=np.square(error)\n",
    "        var1=np.sum(error)\n",
    "        error2=np.square(x_)\n",
    "        var2=np.sum(error2)\n",
    "        temp_matrix=x_\n",
    "        print(k+1, var1/var2)\n",
    "        if(var1/var2 < 0.00001):\n",
    "            break\n",
    "end=time.time()\n",
    "print(temp_matrix)"
   ]
  },
  {
   "cell_type": "code",
   "execution_count": 33,
   "id": "statutory-texas",
   "metadata": {},
   "outputs": [
    {
     "name": "stdout",
     "output_type": "stream",
     "text": [
      "Run time is: 82.92342329025269 seconds\n"
     ]
    }
   ],
   "source": [
    "print(\"Run time is:\",end-start, \"seconds\")"
   ]
  },
  {
   "cell_type": "code",
   "execution_count": 34,
   "id": "inside-bachelor",
   "metadata": {},
   "outputs": [
    {
     "name": "stdout",
     "output_type": "stream",
     "text": [
      "[[  4.47171717  -2.85212121   4.41575758 ...  -8.94040404 -12.50494949\n",
      "  -15.55424242]\n",
      " [  0.           0.           0.         ... -14.22040404 -14.83494949\n",
      "  -16.39424242]\n",
      " [ -2.33828283   5.45787879   4.16575758 ... -19.34040404  -8.76494949\n",
      "   -8.97424242]\n",
      " ...\n",
      " [  0.           0.           0.         ...  89.37959596  81.19505051\n",
      "   79.80575758]\n",
      " [  0.           0.           0.         ...  -9.20040404 -13.41494949\n",
      "  -15.92424242]\n",
      " [  0.           0.           0.         ... -27.83040404 -29.41494949\n",
      "  -29.71424242]]\n"
     ]
    }
   ],
   "source": [
    "print(org_matrix)"
   ]
  },
  {
   "cell_type": "code",
   "execution_count": 35,
   "id": "standing-solution",
   "metadata": {},
   "outputs": [
    {
     "name": "stdout",
     "output_type": "stream",
     "text": [
      "[[  1.47        -5.35        -0.96       ...   5.57         2.61\n",
      "   -5.04      ]\n",
      " [ 20.05131426   5.06215638  16.23743779 ...   0.29         0.28\n",
      "   -5.88      ]\n",
      " [ -5.34         2.96        -1.21       ...  -4.83         6.35\n",
      "    1.54      ]\n",
      " ...\n",
      " [-55.68302299 -33.7059644  -39.97622105 ... 103.89        96.31\n",
      "   90.32      ]\n",
      " [  7.36067209  28.59195774  -3.24711992 ...   5.31         1.7\n",
      "   -5.41      ]\n",
      " [  4.48285831   4.38858482  -4.37028813 ... -13.32       -14.3\n",
      "  -19.2       ]]\n"
     ]
    }
   ],
   "source": [
    "for i in range(m):\n",
    "    for j in range(n):\n",
    "        temp_matrix[i][j]+=l[j]\n",
    "print(temp_matrix) #reconstructed and refined dataset after applying iterative EOF analysis"
   ]
  },
  {
   "cell_type": "code",
   "execution_count": 36,
   "id": "nutritional-president",
   "metadata": {},
   "outputs": [
    {
     "name": "stdout",
     "output_type": "stream",
     "text": [
      "6.4490769628149565\n"
     ]
    }
   ],
   "source": [
    "print(temp_matrix[5][10])"
   ]
  },
  {
   "cell_type": "markdown",
   "id": "informative-friendly",
   "metadata": {},
   "source": [
    "<h2> The assignment ends here.</h2>\n",
    "<h4>\n",
    "    Below is a test on the cross validation set showing the correctness of the EOF based gap filling method.\n",
    "</h4>\n",
    "\n",
    "\n",
    "   A submatrix of size 10 * 10 is taken from the original data set and 10 values are randomly set to 0.\n",
    "   Number of ideal components are select to express maximum variance.\n",
    "   The iterative refinement is done and finally the obtained values are compared with the original values.\n",
    "\n",
    "-beta is set to 1e-06<br>\n",
    "-number of components to cover maximum variance is taken to be 8"
   ]
  },
  {
   "cell_type": "code",
   "execution_count": 99,
   "id": "smart-official",
   "metadata": {},
   "outputs": [
    {
     "name": "stdout",
     "output_type": "stream",
     "text": [
      "[[  24.91168687    0.            0.           20.90928283    0.\n",
      "    26.91872727   21.20593939   20.21809091   19.16857576   27.88578788]\n",
      " [   0.            0.            0.            0.            0.\n",
      "     0.            0.            0.            0.            0.        ]\n",
      " [  18.10168687   29.08493939   27.59230303   36.69928283    0.\n",
      "    23.91872727   48.62593939   32.96809091   29.74857576   40.62578788]\n",
      " [   0.            0.           14.49230303    0.           20.73622222\n",
      "    27.53872727   11.08593939   19.27809091   16.51857576   18.78578788]\n",
      " [  27.16168687   13.95493939   31.36230303   16.75928283   25.81622222\n",
      "    13.54872727    9.02593939   21.03809091   15.02857576   13.56578788]\n",
      " [   0.            0.            0.            0.            0.\n",
      "     0.            0.            0.            0.            0.        ]\n",
      " [  30.17168687   36.72493939   36.36230303   34.09928283   28.68622222\n",
      "    31.93872727   33.36593939   34.46809091   28.68857576   32.92578788]\n",
      " [  48.31168687   36.88493939   37.58230303   35.06928283   41.79622222\n",
      "    33.26872727   34.62593939   29.04809091   57.79857576   35.66578788]\n",
      " [   0.            0.            0.            0.            0.\n",
      "     0.            0.            0.            0.            0.        ]\n",
      " [-230.41831313 -234.78506061 -241.09769697 -237.61071717 -238.84377778\n",
      "  -237.55127273 -236.09406061 -237.27190909 -230.20142424 -245.57421212]]\n"
     ]
    }
   ],
   "source": [
    "cross_valid_set=np.zeros((10,10))\n",
    "new_org_matrix=np.zeros((10,10))\n",
    "t=[]\n",
    "for i in range(10):\n",
    "    for j in range(10):\n",
    "        cross_valid_set[i][j]=org_matrix[i][j]\n",
    "        new_org_matrix[i][j]=org_matrix[i][j]\n",
    "l=[]\n",
    "\n",
    "for i in range(10):\n",
    "    a=random.randint(0,4)\n",
    "    b=random.randint(0,4)\n",
    "    t.append((a,b))\n",
    "    new_org_matrix[a][b]=0\n",
    "    cross_valid_set[a][b]=0\n",
    "for j in range(10):\n",
    "    sum=0.0\n",
    "    count=0\n",
    "    for i in range(10):\n",
    "        sum+=cross_valid_set[i][j]\n",
    "        count+=1\n",
    "    sum/=count\n",
    "    l.append(sum)\n",
    "    for i in range(10):\n",
    "        if(cross_valid_set[i][j]!=0):\n",
    "            cross_valid_set[i][j]-=sum\n",
    "print(cross_valid_set)"
   ]
  },
  {
   "cell_type": "code",
   "execution_count": 100,
   "id": "generic-recipe",
   "metadata": {},
   "outputs": [
    {
     "data": {
      "text/plain": [
       "[<matplotlib.lines.Line2D at 0x7f56f0513450>]"
      ]
     },
     "execution_count": 100,
     "metadata": {},
     "output_type": "execute_result"
    },
    {
     "data": {
      "image/png": "[encoded data removed]",
      "text/plain": [
       "<Figure size 432x288 with 1 Axes>"
      ]
     },
     "metadata": {
      "needs_background": "light"
     },
     "output_type": "display_data"
    }
   ],
   "source": [
    "solver=Eof(cross_valid_set)\n",
    "eigenvalues =  solver.varianceFraction()\n",
    "eigenvalue1 = solver.varianceFraction(neigs=99)\n",
    "variance_covered=0.0\n",
    "y=[]\n",
    "x=[]\n",
    "for i in range(len(eigenvalue1)):\n",
    "    variance_covered+=eigenvalue1[i]\n",
    "    y.append(variance_covered)\n",
    "    x.append(i)\n",
    "xmin, xmax = plt.xlim()\n",
    "ymin, ymax = plt.ylim()\n",
    "scale_factor=10\n",
    "plt.xlim(xmin * scale_factor, xmax * scale_factor)\n",
    "plt.xlabel(\"EOF modes considered\")\n",
    "plt.ylabel(\"Variability covered\")\n",
    "plt.plot(x,y)"
   ]
  },
  {
   "cell_type": "code",
   "execution_count": 101,
   "id": "southeast-boating",
   "metadata": {},
   "outputs": [
    {
     "name": "stdout",
     "output_type": "stream",
     "text": [
      "[[ 4.47171717e+00 -1.52847545e+01 -3.82576578e+00 -2.60929293e+00\n",
      "   1.14255219e+01  1.12424242e-01 -4.84686869e+00 -6.53303030e+00\n",
      "  -1.91474747e+00  2.51262626e+00]\n",
      " [ 6.82651876e+01  8.64862062e+01  7.93298030e+01  8.15492278e+01\n",
      "   7.53499790e+01  8.92918561e+01  8.67302497e+01  8.92485667e+01\n",
      "   7.03091615e+01  8.47202523e+01]\n",
      " [-2.33828283e+00  5.45787879e+00  4.16575758e+00  1.31807071e+01\n",
      "   6.13060903e+00 -2.88757576e+00  2.25731313e+01  6.21696970e+00\n",
      "   8.66525253e+00  1.52526263e+01]\n",
      " [-3.37754512e-01 -7.90298786e+00 -8.93424242e+00 -9.40663069e+00\n",
      "  -3.62555556e+00  7.32424242e-01 -1.49668687e+01 -7.47303030e+00\n",
      "  -4.56474747e+00 -6.58737374e+00]\n",
      " [ 6.72171717e+00 -9.67212121e+00  7.93575758e+00 -6.75929293e+00\n",
      "   1.45444444e+00 -1.32575758e+01 -1.70268687e+01 -5.71303030e+00\n",
      "  -6.05474747e+00 -1.18073737e+01]\n",
      " [ 6.82651876e+01  8.64862062e+01  7.93298030e+01  8.15492278e+01\n",
      "   7.53499790e+01  8.92918561e+01  8.67302497e+01  8.92485667e+01\n",
      "   7.03091615e+01  8.47202523e+01]\n",
      " [ 9.73171717e+00  1.30978788e+01  1.29357576e+01  1.05807071e+01\n",
      "   4.32444444e+00  5.13242424e+00  7.31313131e+00  7.71696970e+00\n",
      "   7.60525253e+00  7.55262626e+00]\n",
      " [ 2.78717172e+01  1.32578788e+01  1.41557576e+01  1.15507071e+01\n",
      "   1.74344444e+01  6.46242424e+00  8.57313131e+00  2.29696970e+00\n",
      "   3.67152525e+01  1.02926263e+01]\n",
      " [ 6.82651876e+01  8.64862062e+01  7.93298030e+01  8.15492278e+01\n",
      "   7.53499790e+01  8.92918561e+01  8.67302497e+01  8.92485667e+01\n",
      "   7.03091615e+01  8.47202523e+01]\n",
      " [-2.50858283e+02 -2.58412121e+02 -2.64524242e+02 -2.61129293e+02\n",
      "  -2.63205556e+02 -2.64357576e+02 -2.62146869e+02 -2.64023030e+02\n",
      "  -2.51284747e+02 -2.70947374e+02]]\n"
     ]
    }
   ],
   "source": [
    "temp_matrix= cross_valid_set\n",
    "comp_considered=8\n",
    "for k in range(comp_considered):\n",
    "    while(1):\n",
    "        solver=Eof(temp_matrix)\n",
    "        pcs=solver.pcs(pcscaling=0,npcs=k+1)\n",
    "        eofs=solver.eofs(eofscaling=0,neofs=k+1)\n",
    "        x_ = np.matmul(pcs,eofs)\n",
    "        for i in range(10):\n",
    "            for j in range(10):\n",
    "                if(new_org_matrix[i][j] != 0):\n",
    "                    x_[i][j]=new_org_matrix[i][j]\n",
    "        error=x_ - temp_matrix\n",
    "        error=np.square(error)\n",
    "        var1=np.sum(error)\n",
    "        error2=np.square(x_)\n",
    "        var2=np.sum(error2)\n",
    "        temp_matrix=x_\n",
    "        #print(k+1, var1/var2)\n",
    "        #print(x_[10][35])\n",
    "        \n",
    "        if(var1/var2 < 0.0000001):\n",
    "            break\n",
    "print(temp_matrix)"
   ]
  },
  {
   "cell_type": "code",
   "execution_count": 102,
   "id": "assured-toddler",
   "metadata": {},
   "outputs": [
    {
     "name": "stdout",
     "output_type": "stream",
     "text": [
      "-19.01078787878788 -27.25231123554788\n",
      "-28.85733333333333 -12.93625583953715\n",
      "-33.53786868686869 -32.925206450178244\n",
      "-37.90918181818182 -31.53004846694464\n",
      "-28.85733333333333 -12.93625583953715\n",
      "-26.47918181818182 -38.91181507444963\n",
      "-33.53786868686869 -32.925206450178244\n",
      "-23.95825252525253 -20.77772420914761\n",
      "-6.3673333333333275 -18.23116874612663\n"
     ]
    }
   ],
   "source": [
    "for i in range(len(t)):\n",
    "    if(org_matrix[t[i][0]][t[i][1]]!=0): #don't consider values which were missing in the original data set.\n",
    "        print(org_matrix[t[i][0]][t[i][1]]+l[t[i][1]] , temp_matrix[t[i][0]][t[i][1]]+l[t[i][1]])"
   ]
  },
  {
   "cell_type": "code",
   "execution_count": null,
   "id": "extended-hours",
   "metadata": {},
   "outputs": [],
   "source": []
  },
  {
   "cell_type": "code",
   "execution_count": null,
   "id": "alone-million",
   "metadata": {},
   "outputs": [],
   "source": []
  },
  {
   "cell_type": "code",
   "execution_count": null,
   "id": "african-generation",
   "metadata": {},
   "outputs": [],
   "source": []
  },
  {
   "cell_type": "code",
   "execution_count": null,
   "id": "sixth-shark",
   "metadata": {},
   "outputs": [],
   "source": []
  },
  {
   "cell_type": "code",
   "execution_count": null,
   "id": "brazilian-destruction",
   "metadata": {},
   "outputs": [],
   "source": []
  },
  {
   "cell_type": "code",
   "execution_count": null,
   "id": "wrapped-brunswick",
   "metadata": {},
   "outputs": [],
   "source": []
  }
 ],
 "metadata": {
  "kernelspec": {
   "display_name": "Python 3",
   "language": "python",
   "name": "python3"
  },
  "language_info": {
   "codemirror_mode": {
    "name": "ipython",
    "version": 3
   },
   "file_extension": ".py",
   "mimetype": "text/x-python",
   "name": "python",
   "nbconvert_exporter": "python",
   "pygments_lexer": "ipython3",
   "version": "3.7.6"
  }
 },
 "nbformat": 4,
 "nbformat_minor": 5
}
